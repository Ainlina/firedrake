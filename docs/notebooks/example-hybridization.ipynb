{
 "cells": [
  {
   "cell_type": "markdown",
   "metadata": {},
   "source": [
    "# An implicit linear shallow water model\n",
    "\n",
    "The non-linear rotating shallow water system is a fundamental equation set in geophysical fluid dynamics. A complete non-linear method will often require a sequence of solutions to a linearized model (Newton-type methods). Therefore, in this notebook we will look at solvers for the linear shallow water model on the sphere:\n",
    "\n",
    "$$\n",
    "\\frac{\\partial \\mathbf{u}}{\\partial t} + f\\mathbf{u}^{\\perp} + g\\nabla D = 0, \\\\\n",
    "\\frac{\\partial D}{\\partial t} + H\\nabla \\cdot \\mathbf{u} = 0.\n",
    "$$\n",
    "\n",
    "This defines a coupled set of equations for a velocity $\\mathbf{u}$ and depth $D$. Here, $f$ is the Coriolis parameter, $g$ is the acceleration due to gravity, and $H$ is a mean layer depth. Our equations are defined on a two-dimensional sphere embedded in $\\mathbb{R}^3$, $\\Omega$.\n",
    "\n",
    "## Spatial discretization\n",
    "\n",
    "Now we discretize in space. First, we mulitply the first equation by a test function $\\mathbf{w} \\in V \\subset H(\\text{div}; \\Omega)$, and the second equation by a test function $\\phi \\in U \\subset L^2(\\Omega)$. Integrating both equations by parts, we obtain the following semi-discrete problem: find $\\mathbf{u}(x, t), D(x, t) \\in V \\times U$ such that:\n",
    "\n",
    "$$\n",
    "\\int_\\Omega \\mathbf{w}\\cdot\\left(\\frac{\\partial\\mathbf{u}}{\\partial t} + f\\mathbf{u}^{\\perp}\\right)\\, \\mathrm{d}x - g\\int_\\Omega D\\nabla\\cdot\\mathbf{w}\\, \\mathrm{d}x = 0, \\quad \\forall \\mathbf{w} \\in V,\\\\\n",
    "\\int_\\Omega \\phi \\frac{\\partial D}{\\partial t}\\,\\mathrm{d}x + H\\int_\\Omega \\phi \\nabla\\cdot\\mathbf{u}\\,\\mathrm{d}x = 0, \\quad \\forall \\phi \\in U.\n",
    "$$\n",
    "\n",
    "## Time discretization (implicit midpoint rule)\n",
    "We now need to discretize in time. Using the implicit midpoint method, solving the time-dependent problem requires successive solutions to the spatial discretization at time $t_{n+1} = t_{n} + \\Delta t$ for $u^{n+1}, D^{n+1} \\in V \\times U$ satifying\n",
    "\n",
    "$$\n",
    "\\int_\\Omega \\mathbf{w}\\cdot\\mathbf{u}^{n+1}\\,\\mathrm{d}x + \\frac{\\Delta t}{2}\\int_\\Omega \\mathbf{w}\\cdot f\\mathbf{u}^{n+1}\\,\\mathrm{d}x - \\frac{g\\Delta t}{2}\\int_\\Omega D^{n+1}\\nabla\\cdot\\mathbf{w}\\,\\mathrm{d}x = -R^n\\lbrack \\mathbf{w} \\rbrack, \\quad \\forall \\mathbf{w} \\in V, \\\\\n",
    "\\int_\\Omega \\phi D^{n+1}\\,\\mathrm{d}x + \\frac{H\\Delta t}{2}\\int_\\Omega \\phi\\nabla\\cdot\\mathbf{u}^{n+1}\\,\\mathrm{d}x = -R^n\\lbrack \\phi \\rbrack, \\quad \\forall \\phi \\in V,\n",
    "$$\n",
    "\n",
    "where the residual co-vectors are defined as:\n",
    "\n",
    "$$\n",
    "R^n\\lbrack \\mathbf{w} \\rbrack = \\int_\\Omega \\mathbf{w}\\cdot\\mathbf{u}^{n}\\,\\mathrm{d}x - \\frac{\\Delta t}{2}\\int_\\Omega \\mathbf{w}\\cdot f\\mathbf{u}^{n}\\,\\mathrm{d}x + \\frac{g\\Delta t}{2}\\int_\\Omega D^{n}\\nabla\\cdot\\mathbf{w}\\,\\mathrm{d}x \\\\\n",
    "R^n\\lbrack \\phi \\rbrack = \\int_\\Omega \\phi D^{n}\\,\\mathrm{d}x - \\frac{H\\Delta t}{2}\\int_\\Omega \\phi\\nabla\\cdot\\mathbf{u}^{n}\\,\\mathrm{d}x.\n",
    "$$\n",
    "\n",
    "For each time-step, we require the numerical solution to the saddle-point system:\n",
    "\n",
    "$$\n",
    "\\mathbf{A}\\mathbf{x} \\equiv \\begin{bmatrix} A & -\\frac{g\\Delta t}{2}B^T \\\\ \\frac{H\\Delta t}{2} B & C \\end{bmatrix} \\begin{Bmatrix} U^{n+1} \\\\ D^{n+1}\\end{Bmatrix} = \\begin{Bmatrix} -R^n\\lbrack \\mathbf{w} \\rbrack \\\\ -R^n\\lbrack \\phi \\rbrack \\end{Bmatrix} \\equiv \\mathbf{b}\n",
    "$$\n",
    "\n",
    "for the coefficent vectors $U^{n+1}$ and $D^{n+1}$. One standard approach for such systems revolves around preconditioning the operator $\\mathbf{A}$ by an approximate inverse of the its Schur-complement factorization. In this notebook, we will highlight a techniqued known as \"hybridization,\" whereby a different discretization (approximating the same system) replaces the original $H(\\text{div})\\times L^2$ mixed method by a \"hybrid\" version. This new discretization permits the use of element-wise static condensation to exactly eliminate the prognostic unknowns for a reduced problem on mesh interfaces."
   ]
  },
  {
   "cell_type": "markdown",
   "metadata": {},
   "source": [
    "## Implementation\n",
    "\n",
    "To solve the problem in a concrete setting, we need two things.  A domain, and initial conditions for $\\mathbf{u}$ and $D$. Our domain will be a spherical mesh consisting of simplices and a cubic coordinate field. This way, we can have a suitable approximation of the curvature.\n",
    "\n",
    "We begin by importing Firedrake and defining some relevant constants."
   ]
  },
  {
   "cell_type": "code",
   "execution_count": null,
   "metadata": {},
   "outputs": [],
   "source": [
    "%matplotlib inline\n",
    "from firedrake import *\n",
    "\n",
    "R0 = 6371220.0\n",
    "R = Constant(R0)              # Radius of the earth [m]\n",
    "H = Constant(5960.0)          # Mean depth [m]\n",
    "day = 24. * 60. * 60.         # Seconds in a day [s]\n",
    "Omega_f = Constant(7.292E-5)  # Angular rotation rate [rads]\n",
    "g = Constant(9.80616)         # Acceleration due to gravity [m/s^2]\n",
    "mesh_degree = 3               # Cubic coordinate field\n",
    "refinements = 3               # Number of icosahedron refinements\n",
    "mesh = IcosahedralSphereMesh(R0, refinements,\n",
    "                             degree=mesh_degree)"
   ]
  },
  {
   "cell_type": "markdown",
   "metadata": {},
   "source": [
    "Now we initialize and orient the coordinates on the sphere:"
   ]
  },
  {
   "cell_type": "code",
   "execution_count": null,
   "metadata": {},
   "outputs": [],
   "source": [
    "x = SpatialCoordinate(mesh)\n",
    "global_normal = as_vector([x[0], x[1], x[2]])\n",
    "mesh.init_cell_orientations(global_normal)"
   ]
  },
  {
   "cell_type": "markdown",
   "metadata": {},
   "source": [
    "If one desires, you can optionally plot the generated mesh:"
   ]
  },
  {
   "cell_type": "code",
   "execution_count": null,
   "metadata": {},
   "outputs": [],
   "source": [
    "plot(mesh);"
   ]
  },
  {
   "cell_type": "markdown",
   "metadata": {},
   "source": [
    "We now define the mixed method method by choosing our discrete function spaces. We use a standard BDM mixed method, taking $V = BDM_2$ and $U = DG_1$:"
   ]
  },
  {
   "cell_type": "code",
   "execution_count": null,
   "metadata": {},
   "outputs": [],
   "source": [
    "V = FunctionSpace(mesh, \"BDM\", 2)\n",
    "U = FunctionSpace(mesh, \"DG\", 1)\n",
    "W = V * U"
   ]
  },
  {
   "cell_type": "markdown",
   "metadata": {},
   "source": [
    "Now we add the Coriolis term as a function in a continuous finite element space:"
   ]
  },
  {
   "cell_type": "code",
   "execution_count": null,
   "metadata": {},
   "outputs": [],
   "source": [
    "f_expr = 2 * Omega_f * x[2] / R\n",
    "Vf = FunctionSpace(mesh, \"CG\", mesh_degree)\n",
    "f = Function(Vf).interpolate(f_expr)    # Coriolis frequency [1/s]"
   ]
  },
  {
   "cell_type": "markdown",
   "metadata": {},
   "source": [
    "For our initial conditions, we choose profiles for $\\mathbf{u}$ and $D$ such that they are in a state of geostrophic balance:\n",
    "\n",
    "$$\n",
    "\\mathbf{u}(\\mathbf{x}, 0) = \\frac{u_{\\text{max}}}{R_{\\odot}}\\left( -y, x, 0\\right), \\\\\n",
    "D(\\mathbf{x}, 0) = H - \\left(R_\\odot\\Omega_f u_{\\text{max}} + \\frac{u_{\\text{max}}^2}{2}\\right)\\frac{z^2}{gR^2_\\odot}\n",
    "$$\n",
    "\n",
    "where $u_{\\text{max}} = 2\\pi R_\\odot/(12 \\text{days}) \\approx 38.6 \\text{m}\\text{s}^{-1}$. Since there is no forcing or topography, the solution should remain steady throughout the entire simulation. In Firedrake, we simply define the expressions in UFL and project/interpolate into the relevant finite element spaces:"
   ]
  },
  {
   "cell_type": "code",
   "execution_count": null,
   "metadata": {},
   "outputs": [],
   "source": [
    "u_0 = 2*pi*R0/(12*day)\n",
    "u_max = Constant(u_0)                 # Maximum amplitude of the zonal wind [m/s]\n",
    "u_expr = as_vector([-u_max*x[1]/R, u_max*x[0]/R, 0.0])\n",
    "D_expr = H - ((R * Omega_f * u_max + u_max*u_max/2.0)*(x[2]*x[2]/(R*R)))/g\n",
    "u0 = Function(V).project(u_expr, solver_parameters={'ksp_type': 'preonly',\n",
    "                                                    'pc_type': 'lu',\n",
    "                                                    'pc_factor_mat_solver_type': 'mumps'})\n",
    "D0 = Function(U).interpolate(D_expr)"
   ]
  },
  {
   "cell_type": "markdown",
   "metadata": {},
   "source": [
    "We also need solution functions for $\\mathbf{u}^{n+1}$ and $\\mathbf{u}^n$ (as well as $D^{n+1}$ and $D^n$). Additionally, we assign the fields with their initial values."
   ]
  },
  {
   "cell_type": "code",
   "execution_count": null,
   "metadata": {},
   "outputs": [],
   "source": [
    "wn = Function(W, name=\"w^n\")          # Fields at time-step n\n",
    "un, Dn = wn.split()                   # Split mixed function for individual fields\n",
    "un.assign(u0)\n",
    "Dn.assign(D0)\n",
    "wn1 = Function(W, name=\"w^{n+1}\")     # Fields at time-tep n+1\n",
    "un1, Dn1 = wn1.split()"
   ]
  },
  {
   "cell_type": "markdown",
   "metadata": {},
   "source": [
    "Now we set the maximum simulation time, time-step size, time-stepping coefficients, and the relevant test/trial functions:"
   ]
  },
  {
   "cell_type": "code",
   "execution_count": null,
   "metadata": {},
   "outputs": [],
   "source": [
    "tmax = day\n",
    "Dt = 4000.0\n",
    "dt = Constant(Dt)                     # Time-step size [s]\n",
    "alpha = Constant(0.5)                 # Midpoint method\n",
    "u, D = TrialFunctions(W)\n",
    "w, phi = TestFunctions(W)"
   ]
  },
  {
   "cell_type": "markdown",
   "metadata": {},
   "source": [
    "Finally, we define the \"perp\" operator:"
   ]
  },
  {
   "cell_type": "code",
   "execution_count": null,
   "metadata": {},
   "outputs": [],
   "source": [
    "outward_normal = CellNormal(mesh)\n",
    "perp = lambda u: cross(outward_normal, u)"
   ]
  },
  {
   "cell_type": "markdown",
   "metadata": {},
   "source": [
    "Now that we have initalized our fields defined relevant parameters, we define our finite element problem in residual form:"
   ]
  },
  {
   "cell_type": "code",
   "execution_count": null,
   "metadata": {},
   "outputs": [],
   "source": [
    "uD_eqn = (inner(w, u) + alpha*dt*inner(w, f*perp(u))\n",
    "          - alpha*dt*g*div(w)*D\n",
    "          - inner(w, un)\n",
    "          + alpha*dt*inner(w, f*perp(un))\n",
    "          - alpha*dt*g*div(w)*Dn\n",
    "          + phi*D + alpha*dt*H*phi*div(u)\n",
    "          - phi*Dn + alpha*dt*H*phi*div(un))*dx"
   ]
  },
  {
   "cell_type": "markdown",
   "metadata": {},
   "source": [
    "And our problem/solver context with a Schur-complement preconditioner:"
   ]
  },
  {
   "cell_type": "code",
   "execution_count": null,
   "metadata": {},
   "outputs": [],
   "source": [
    "uD_problem = LinearVariationalProblem(lhs(uD_eqn), rhs(uD_eqn), wn1)\n",
    "solver_parameters = {'ksp_type': 'gmres',\n",
    "                     'ksp_rtol': 1.0e-8,\n",
    "                     'pc_type': 'fieldsplit',\n",
    "                     'pc_fieldsplit_type': 'schur',\n",
    "                     'pc_fieldsplit_schur_fact_type': 'full',\n",
    "                     'pc_fieldsplit_schur_precondition': 'selfp',\n",
    "                     'fieldsplit_0': {'ksp_type': 'preonly',\n",
    "                                      'pc_type': 'bjacobi',\n",
    "                                      'sub_pc_type': 'ilu'},\n",
    "                     'fieldsplit_1': {'ksp_type': 'preonly',\n",
    "                                      'pc_type': 'gamg',\n",
    "                                      'mg_levels': {'ksp_type': 'chebyshev',\n",
    "                                                    'ksp_max_it': 2,\n",
    "                                                    'pc_type': 'bjacobi',\n",
    "                                                    'sub_pc_type': 'ilu'}}}\n",
    "uD_solver = LinearVariationalSolver(uD_problem,\n",
    "                                    solver_parameters=solver_parameters)"
   ]
  },
  {
   "cell_type": "markdown",
   "metadata": {},
   "source": [
    "Now we simply execute the time loop:"
   ]
  },
  {
   "cell_type": "code",
   "execution_count": null,
   "metadata": {},
   "outputs": [],
   "source": [
    "t = 0.0\n",
    "while t < tmax:        # Start time loop\n",
    "    t += Dt\n",
    "    uD_solver.solve()  # Solve for updated fields\n",
    "    un.assign(un1)     # Update fields for next time-step\n",
    "    Dn.assign(Dn1)"
   ]
  },
  {
   "cell_type": "markdown",
   "metadata": {},
   "source": [
    "Since the flow is steady, the relative error in the fields compared with their initial values should be small (relative to discretization error). We can do this using Firedrake's `errornorm` and `norm` functions:"
   ]
  },
  {
   "cell_type": "code",
   "execution_count": null,
   "metadata": {},
   "outputs": [],
   "source": [
    "Uerr = errornorm(u_expr, un1, norm_type=\"L2\")/norm(u_expr, norm_type=\"L2\")\n",
    "Derr = errornorm(D_expr, Dn1, norm_type=\"L2\")/norm(D_expr, norm_type=\"L2\")\n",
    "print(\"Error in the velocity: %s\" % Uerr)\n",
    "print(\"Error in the depth: %s\" % Derr)"
   ]
  },
  {
   "cell_type": "markdown",
   "metadata": {},
   "source": [
    "### Solver convergence\n",
    "\n",
    "Although the code we wrote above works fine, let's take a closer look at the solver by turning on PETSc's KSP monitor. Resetting back to the initial state, we now turn on the monitor and run for a single time-step:"
   ]
  },
  {
   "cell_type": "code",
   "execution_count": null,
   "metadata": {},
   "outputs": [],
   "source": [
    "# NBVAL_SKIP\n",
    "solver_parameters['ksp_monitor_true_residual'] = True\n",
    "from firedrake.solving_utils import KSPReasons\n",
    "un.assign(u0)\n",
    "Dn.assign(D0)\n",
    "wn1.assign(0.0)\n",
    "uD_solver = LinearVariationalSolver(uD_problem,\n",
    "                                    solver_parameters=solver_parameters)\n",
    "uD_solver.solve()\n",
    "print(\"gmres iterations = {}, converged reason = {}\".format(\n",
    "       uD_solver.snes.ksp.getIterationNumber(), \n",
    "       KSPReasons[uD_solver.snes.ksp.getConvergedReason()]))"
   ]
  }
 ],
 "metadata": {
  "kernelspec": {
   "display_name": "Python 3",
   "language": "python",
   "name": "python3"
  },
  "language_info": {
   "codemirror_mode": {
    "name": "ipython",
    "version": 3
   },
   "file_extension": ".py",
   "mimetype": "text/x-python",
   "name": "python",
   "nbconvert_exporter": "python",
   "pygments_lexer": "ipython3",
   "version": "3.7.2"
  }
 },
 "nbformat": 4,
 "nbformat_minor": 1
}
