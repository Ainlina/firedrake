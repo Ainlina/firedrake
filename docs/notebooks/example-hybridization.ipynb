{
 "cells": [
  {
   "cell_type": "markdown",
   "metadata": {},
   "source": [
    "# TODO:\n",
    "- Figure out the color situation. (R/B/O seem okay. Check list)\n",
    "- set 'constant_jacobian=False' in LVP. This tells the solver to rebuild the Jacobian each time (avoid having to constantly recreate LVS when changing beta)\n",
    "- Change the trace element diagram (space between vertices to stress discontinuity across vertices)\n",
    "- Rephrase how difficult hybridization is to implement. Stress composition of two abstractions: one for local algebra, and Firedrake as a reasoning tool to automate the manipuation\n",
    "- Time the execution for code-gen so we know exactly how long it takes to generate and compile. Rerun cells to demonstrate speed after compilation.\n",
    "- Practice and time the presentation to know how long we need to get through everything."
   ]
  },
  {
   "cell_type": "markdown",
   "metadata": {},
   "source": [
    "# Static condensation and hybridization\n",
    "\n",
    "In this notebook, we explore the more advanced capabilities of Firedrake which facilitate the global reduction of finite element systems. The procedure, known as element-wise \"static condensation,\" is well-known within the FEM community. This approach requires the algebraic manipulation of locally assembled matrices and vectors. We will apply this within the context of hybridizing a mixed method. As our running example, we consider the following saddle-point system: find $(\\mathbf{u}, D) \\in V \\times U \\subset H(\\text{div}) \\times L^2$ such that\n",
    "\n",
    "$$\n",
    "\\begin{align}\n",
    "    \\color{#800020}{\\int_\\Omega \\mathbf{w}\\cdot\\mathbf{u}\\,\\mathrm{d}x +\n",
    "    \\beta\\int_\\Omega \\mathbf{w}\\cdot f\\mathbf{u}^\\perp\\,\\mathrm{d}x}\n",
    "    - \\color{#2A52BE}{g\\beta\\int_\\Omega D\\nabla\\cdot\\mathbf{w}\\,\\mathrm{d}x} &= -R\\lbrack \\mathbf{w} \\rbrack,\n",
    "    \\quad \\forall \\mathbf{w} \\in V, \\\\\n",
    "    \\color{#CC5500}{\\int_\\Omega \\phi D\\,\\mathrm{d}x} +\n",
    "    \\color{#2A52BE}{H\\beta\\int_\\Omega \\phi\\nabla\\cdot\\mathbf{u}\\,\\mathrm{d}x} &= -R\\lbrack \\phi \\rbrack,\n",
    "    \\quad \\forall \\phi \\in U,\n",
    "\\end{align}\n",
    "$$\n",
    "\n",
    "where the residual co-vectors are defined as:\n",
    "\n",
    "$$\n",
    "\\begin{align}\n",
    "    R\\lbrack \\mathbf{w} \\rbrack &= \\int_\\Omega \\mathbf{w}\\cdot\\mathbf{u}^{0}\\,\\mathrm{d}x -\n",
    "    \\beta\\int_\\Omega \\mathbf{w}\\cdot f\\mathbf{u}^{0\\perp}\\,\\mathrm{d}x +\n",
    "    g\\beta\\int_\\Omega D^{0}\\nabla\\cdot\\mathbf{w}\\,\\mathrm{d}x \\\\\n",
    "    R\\lbrack \\phi \\rbrack &= \\int_\\Omega \\phi D^{0}\\,\\mathrm{d}x -\n",
    "    \\beta\\int_\\Omega \\phi\\nabla\\cdot\\mathbf{u}^{0}\\,\\mathrm{d}x.\n",
    "\\end{align}\n",
    "$$\n",
    "\n",
    "This system commonly arises from time-integrating geophysical flows. $\\beta$, $g$, and $H$ are parameters. Within the context of fluid flow on a rotating sphere, $f$ is the Coriolis parameter. $\\mathbf{u}^{0}$ and $D^0$ are previous states of the fields.\n",
    "\n",
    "We require the numerical solution to the saddle-point system:\n",
    "\n",
    "$$\n",
    "    \\mathcal{A}\\mathbf{x} \\equiv\n",
    "    \\begin{bmatrix}\n",
    "        \\color{#800020}{A} & -g\\beta\\color{#2A52BE}{B^T} \\\\\n",
    "        H\\beta\\color{#2A52BE}{B} & \\color{#CC5500}{C}\n",
    "    \\end{bmatrix}\n",
    "    \\begin{Bmatrix}\n",
    "        U \\\\\n",
    "        D\n",
    "    \\end{Bmatrix} =\n",
    "    \\begin{Bmatrix}\n",
    "        -R\\lbrack \\mathbf{w} \\rbrack \\\\\n",
    "        -R\\lbrack \\phi \\rbrack\n",
    "    \\end{Bmatrix} \\equiv \\mathbf{b}\n",
    "$$\n",
    "\n",
    "for the coefficent vectors $U$ and $D$. A challenge for systems of this type is finding a parameter-indepedent solver for which we have good convergence. First, let's set up an example."
   ]
  },
  {
   "cell_type": "markdown",
   "metadata": {},
   "source": [
    "## Example implementation\n",
    "\n",
    "For our domain, let's use a spherical mesh with a radius equal to that of the Earth. We begin by importing Firedrake and defining some relevant constants."
   ]
  },
  {
   "cell_type": "code",
   "execution_count": null,
   "metadata": {},
   "outputs": [],
   "source": [
    "%matplotlib notebook\n",
    "from firedrake import *\n",
    "\n",
    "R0 = 6371220.0                  # Radius\n",
    "R = Constant(R0)\n",
    "H = Constant(6000.0)            # Mean depth\n",
    "Omega_f = Constant(1.e-4)       # Angular rotation rate\n",
    "g = Constant(10)                # Acceleration due to gravity"
   ]
  },
  {
   "cell_type": "markdown",
   "metadata": {},
   "source": [
    "Now let's create a mesh with quadrilateral elements. We will want to use Firedrake's `CubedSphereMesh`. As with all builtin meshes, we can find out what arguments we need to pass in:"
   ]
  },
  {
   "cell_type": "code",
   "execution_count": null,
   "metadata": {},
   "outputs": [],
   "source": [
    "help(CubedSphereMesh)"
   ]
  },
  {
   "cell_type": "markdown",
   "metadata": {},
   "source": [
    "So now we need to specify the number of refinements (say 3). Let's also set the mesh `degree` to be cubic. With this choice of coordinate space, we can better resolve the actual curvature of the sphere using bendy quadrilateral elements:"
   ]
  },
  {
   "cell_type": "code",
   "execution_count": null,
   "metadata": {},
   "outputs": [],
   "source": [
    "mesh_degree = 3\n",
    "ref_lvl = 3\n",
    "mesh = CubedSphereMesh(radius=R0, refinement_level=ref_lvl, degree=mesh_degree)"
   ]
  },
  {
   "cell_type": "markdown",
   "metadata": {},
   "source": [
    "And now we just initialize the global normals on this mesh:"
   ]
  },
  {
   "cell_type": "code",
   "execution_count": null,
   "metadata": {},
   "outputs": [],
   "source": [
    "x = SpatialCoordinate(mesh)\n",
    "mesh.init_cell_orientations(x)"
   ]
  },
  {
   "cell_type": "markdown",
   "metadata": {},
   "source": [
    "Let's take a look at the mesh:"
   ]
  },
  {
   "cell_type": "code",
   "execution_count": null,
   "metadata": {},
   "outputs": [],
   "source": [
    "plot(mesh);"
   ]
  },
  {
   "cell_type": "markdown",
   "metadata": {},
   "source": [
    "Now let's define our discrete function spaces. We use a Raviart-Thomas (RT) mixed method on quadrilaterals, taking $V = RTCF_2$ and $U = DQ_1$:"
   ]
  },
  {
   "cell_type": "markdown",
   "metadata": {},
   "source": [
    "<figure>\n",
    "  <center><img src=\"image/rtcf2_dg1.png\" alt=\"rtcf_dg\" style=\"width: 400px;\"/></center>\n",
    "  <center><figcaption>$RTCF_2$ (left) and $DQ_1 (right)$.</figcaption></center>\n",
    "</figure>"
   ]
  },
  {
   "cell_type": "code",
   "execution_count": null,
   "metadata": {},
   "outputs": [],
   "source": [
    "V = FunctionSpace(mesh, \"RTCF\", 2)\n",
    "U = FunctionSpace(mesh, \"DQ\", 1)\n",
    "W = V * U"
   ]
  },
  {
   "cell_type": "markdown",
   "metadata": {},
   "source": [
    "And create an expression for the Coriolis term:"
   ]
  },
  {
   "cell_type": "code",
   "execution_count": null,
   "metadata": {},
   "outputs": [],
   "source": [
    "f = 2 * Omega_f * x[2] / R"
   ]
  },
  {
   "cell_type": "markdown",
   "metadata": {},
   "source": [
    "For our initial profiles for $\\mathbf{u}$ and $D$, we set them in steady rotating state:\n",
    "\n",
    "$$\n",
    "\\begin{align}\n",
    "    \\mathbf{u}^0 &= \\frac{u_{\\text{max}}}{R}\\left( -y, x, 0\\right), \\\\\n",
    "    D^0 &= H - \\left(R\\Omega_f u_{\\text{max}} + \\frac{u_{\\text{max}}^2}{2}\\right)\\frac{z^2}{gR^2}\n",
    "\\end{align}\n",
    "$$\n",
    "\n",
    "where $u_{\\text{max}} = 40.0 \\text{m}\\text{s}^{-1}$ and $\\Omega_f$ is the planetary rotation rate. In Firedrake, we simply define the expressions in UFL and project/interpolate into the relevant finite element spaces:"
   ]
  },
  {
   "cell_type": "code",
   "execution_count": null,
   "metadata": {},
   "outputs": [],
   "source": [
    "u_max = Constant(40)\n",
    "u_expr = as_vector([-u_max * x[1] / R, u_max * x[0] / R, 0.0])\n",
    "D_expr = H -  (R * Omega_f * u_max + u_max**2 / 2.0) * (x[2]**2 / (g * R**2))\n",
    "u0 = Function(V).project(u_expr)\n",
    "D0 = Function(U).interpolate(D_expr)"
   ]
  },
  {
   "cell_type": "markdown",
   "metadata": {},
   "source": [
    "We also need solution functions for $\\mathbf{u}$ and $D$:"
   ]
  },
  {
   "cell_type": "code",
   "execution_count": null,
   "metadata": {},
   "outputs": [],
   "source": [
    "wh = Function(W, name=\"w_h\")    # Fields in a mixed function"
   ]
  },
  {
   "cell_type": "markdown",
   "metadata": {},
   "source": [
    "Now we set the coefficient parameter $\\beta$ and define some test/trial functions:"
   ]
  },
  {
   "cell_type": "code",
   "execution_count": null,
   "metadata": {},
   "outputs": [],
   "source": [
    "beta = Constant(2000.0)\n",
    "u, D = TrialFunctions(W)\n",
    "w, phi = TestFunctions(W)"
   ]
  },
  {
   "cell_type": "markdown",
   "metadata": {},
   "source": [
    "UFL does indeed have a `perp` operator. However, it does not work for two-dimensional problems embedded in $\\mathbb{R}^3$. That is okay! Since UFL is an embedded language in Python, we can create our own `perp` via a Python function which returns a UFL expression:"
   ]
  },
  {
   "cell_type": "code",
   "execution_count": null,
   "metadata": {},
   "outputs": [],
   "source": [
    "outward_normal = CellNormal(mesh)\n",
    "perp = lambda u: cross(outward_normal, u)"
   ]
  },
  {
   "cell_type": "markdown",
   "metadata": {},
   "source": [
    "Finally, we can define our finite element problem in residual form and create a `LinearVariationalProblem`. Here is the problem in residual form:\n",
    "\n",
    "$$\n",
    "\\begin{align}\n",
    "    0 = F(\\mathbf{u}, D; \\mathbf{w}, \\phi) &=\n",
    "    \\color{#800020}{\\int_\\Omega \\mathbf{w}\\cdot\\mathbf{u}\\,\\mathrm{d}x +\n",
    "    \\beta\\int_\\Omega \\mathbf{w}\\cdot f\\mathbf{u}^\\perp\\,\\mathrm{d}x} \\\\\n",
    "    &- \\color{#2A52BE}{g\\beta\\int_\\Omega D\\nabla\\cdot\\mathbf{w}\\,\\mathrm{d}x} \\\\\n",
    "    &- \\int_\\Omega \\mathbf{w}\\cdot\\mathbf{u}^{0}\\,\\mathrm{d}x\n",
    "    + \\beta\\int_\\Omega \\mathbf{w}\\cdot f\\mathbf{u}^{0\\perp}\\,\\mathrm{d}x \\\\\n",
    "    &- g\\beta\\int_\\Omega D^{0}\\nabla\\cdot\\mathbf{w}\\,\\mathrm{d}x \\\\\n",
    "    &+ \\color{#CC5500}{\\int_\\Omega \\phi D\\,\\mathrm{d}x} +\n",
    "    \\color{#2A52BE}{H\\beta\\int_\\Omega \\phi\\nabla\\cdot\\mathbf{u}\\,\\mathrm{d}x} \\\\\n",
    "    &- \\int_\\Omega \\phi D^{0}\\,\\mathrm{d}x +\n",
    "    \\beta\\int_\\Omega \\phi\\nabla\\cdot\\mathbf{u}^{0}\\,\\mathrm{d}x,\n",
    "\\end{align}\n",
    "$$\n",
    "\n",
    "and in UFL:"
   ]
  },
  {
   "cell_type": "code",
   "execution_count": null,
   "metadata": {},
   "outputs": [],
   "source": [
    "uD_eqn = (inner(w, u) + beta*inner(w, f*perp(u))\n",
    "          - g*beta*div(w)*D\n",
    "          - inner(w, u0) + beta*inner(w, f*perp(u0))\n",
    "          - g*beta*div(w)*D0\n",
    "          + phi*D + H*beta*phi*div(u)\n",
    "          - phi*D0 + H*beta*phi*div(u0))*dx\n",
    "a = lhs(uD_eqn)\n",
    "L = rhs(uD_eqn)\n",
    "\n",
    "# Rebuild problem jacobian since we will be changing beta\n",
    "uD_problem = LinearVariationalProblem(a, L, wh, constant_jacobian=False)"
   ]
  },
  {
   "cell_type": "markdown",
   "metadata": {},
   "source": [
    "## An approximate Schur-complement preconditioner\n",
    "\n",
    "In exact arithmetic, the inverse of the Schur-complement factorization of $\\mathcal{A}$ is:\n",
    "\n",
    "$$\n",
    "   \\mathcal{A}^{-1} =\n",
    "   \\begin{bmatrix}\n",
    "       I & g\\beta \\color{#800020}{A^{-1}}\\color{#2A52BE}{B^T} \\\\\n",
    "       0 & I\n",
    "   \\end{bmatrix}\n",
    "   \\begin{bmatrix}\n",
    "       \\color{#800020}{A^{-1}} & 0 \\\\\n",
    "       0 & \\color{#CC5500}{S}^{-1}\n",
    "   \\end{bmatrix}\n",
    "   \\begin{bmatrix}\n",
    "       I & 0 \\\\\n",
    "       -H\\beta \\color{#2A52BE}{B}\\color{#800020}{A^{-1}} & I\n",
    "   \\end{bmatrix},\n",
    "$$\n",
    "where $\\color{#CC5500}{S}$ is the Schur-complement:\n",
    "\n",
    "$$\n",
    "\\begin{equation}\n",
    "    \\color{#CC5500}{S} = \\color{#CC5500}{C} + gH\\beta^2\\color{#2A52BE}{B}\\color{#800020}{A^{-1}}\\color{#2A52BE}{B^T}.\n",
    "\\end{equation}\n",
    "$$\n",
    "\n",
    "Problem: $\\color{#800020}{A^{-1}}$ is _dense_! Instead, let's construct a sparse approximation by using the diagonal of $\\color{#800020}{A}$ to form:\n",
    "\n",
    "$$\n",
    "\\begin{equation}\n",
    "    \\color{#CC5500}{\\tilde{S}} = \\color{#CC5500}{C} + gH\\beta^2\\color{#2A52BE}{B}\\text{Diag}(\\color{#800020}{A})^{-1}\\color{#2A52BE}{B^T}.\n",
    "\\end{equation}\n",
    "$$"
   ]
  },
  {
   "cell_type": "markdown",
   "metadata": {},
   "source": [
    "Here, we use a block-preconditioner (centered around a full factorization) and approximately invert both $\\color{#800020}{A}$ and $\\color{#CC5500}{\\tilde{S}}$:"
   ]
  },
  {
   "cell_type": "code",
   "execution_count": null,
   "metadata": {},
   "outputs": [],
   "source": [
    "solver_parameters = {'ksp_type': 'gmres',\n",
    "                     'ksp_rtol': 1.0e-7,\n",
    "                     'ksp_max_it': 1500,\n",
    "                     'pc_type': 'fieldsplit',\n",
    "                     'pc_fieldsplit_type': 'schur',\n",
    "                     'pc_fieldsplit_schur_fact_type': 'full',\n",
    "                     'pc_fieldsplit_schur_precondition': 'selfp',\n",
    "                     'fieldsplit_0': {'ksp_type': 'preonly',\n",
    "                                      'pc_type': 'bjacobi',\n",
    "                                      'sub_pc_type': 'ilu'},\n",
    "                     'fieldsplit_1': {'ksp_type': 'preonly',\n",
    "                                      'pc_type': 'gamg',\n",
    "                                      'mg_levels': {'ksp_type': 'chebyshev',\n",
    "                                                    'ksp_max_it': 5,\n",
    "                                                    'pc_type': 'bjacobi',\n",
    "                                                    'sub_pc_type': 'ilu'}}}\n",
    "uD_solver = LinearVariationalSolver(uD_problem,\n",
    "                                    solver_parameters=solver_parameters)"
   ]
  },
  {
   "cell_type": "markdown",
   "metadata": {},
   "source": [
    "Now we just call solve, store our results, and take a look at the reduction in the residual:"
   ]
  },
  {
   "cell_type": "code",
   "execution_count": null,
   "metadata": {},
   "outputs": [],
   "source": [
    "wh.assign(0.0)\n",
    "uD_solver.solve()\n",
    "r = assemble(action(a, wh) - L)\n",
    "b = assemble(L)\n",
    "print(\"reduction in residual: %s\" % (r.dat.norm / b.dat.norm))"
   ]
  },
  {
   "cell_type": "markdown",
   "metadata": {},
   "source": [
    "### Solver convergence\n",
    "\n",
    "Although the code we wrote above works fine, let's take a closer look at the solver by turning on PETSc's KSP monitor:"
   ]
  },
  {
   "cell_type": "code",
   "execution_count": null,
   "metadata": {},
   "outputs": [],
   "source": [
    "from firedrake.solving_utils import KSPReasons\n",
    "\n",
    "wh.assign(0.0)        # re-initialize solution vector\n",
    "uD_solver.solve()\n",
    "\n",
    "print(\"gmres iterations = {}, converged reason = {}\".format(\n",
    "       uD_solver.snes.ksp.getIterationNumber(), \n",
    "       KSPReasons[uD_solver.snes.ksp.getConvergedReason()]))"
   ]
  },
  {
   "cell_type": "markdown",
   "metadata": {},
   "source": [
    "Okay. But what happens if we change the parameters a bit? For example, increasing $\\beta$:"
   ]
  },
  {
   "cell_type": "code",
   "execution_count": null,
   "metadata": {},
   "outputs": [],
   "source": [
    "def solve_saddle_point(beta_val=2000.0, options=None, print_reduction=False):\n",
    "\n",
    "    print(\"beta: %s\" % beta_val)\n",
    "\n",
    "    beta.assign(beta_val)\n",
    "    wh.assign(0.0)\n",
    "    uD_solver.solve()\n",
    "\n",
    "    print(\"outer iterations = {}, converged reason = {}\".format(\n",
    "           uD_solver.snes.ksp.getIterationNumber(), \n",
    "           KSPReasons[uD_solver.snes.ksp.getConvergedReason()]))\n",
    "\n",
    "    if print_reduction:\n",
    "        r = assemble(action(a, wh) - L)\n",
    "        b = assemble(L)\n",
    "        print(\"reduction in residual: %s\\n\" % (r.dat.norm / b.dat.norm))\n",
    "\n",
    "\n",
    "for beta_val in [4000.0, 8000.0, 16000.0, 32000.0, 64000.0, 128000.0]:\n",
    "    solve_saddle_point(beta_val=beta_val, options=solver_parameters, print_reduction=True)"
   ]
  },
  {
   "cell_type": "markdown",
   "metadata": {},
   "source": [
    "Yikes. So our solver breaks down after increasing the magnitude of the parameters. In operational settings (numerical weather prediction, for example), it is absolutely critical to remain stable for larger parameters, as coefficients of these magnitudes are not unusual. We need to do better."
   ]
  },
  {
   "cell_type": "markdown",
   "metadata": {},
   "source": [
    "## The hybridized mixed method\n",
    "\n",
    "Hybridizing the mixed formulation is an alternative approach which avoids building a global dense operator. We seek approximations $\\hat{\\mathbf{u}}, D, \\lambda \\in \\widehat{V} \\times U \\times T$, where $\\widehat{V}$ is a _discontinuous_ version of $V$ and $T$ is the _trace_ of $V$."
   ]
  },
  {
   "cell_type": "markdown",
   "metadata": {},
   "source": [
    "$V = RTCF_2$ is continuous in the sense that nodes on the facets shared between cells are topologically identical:\n",
    "\n",
    "<figure>\n",
    "    <center><img src='image/w2.png' alt='w2' style=\"width: 275px;\"/></center>\n",
    "    <center><figcaption>$V$: continuous between facets.</figcaption></center>\n",
    "</figure>"
   ]
  },
  {
   "cell_type": "markdown",
   "metadata": {},
   "source": [
    "The result of rendering $V$ discontinuous removes this association:\n",
    "\n",
    "<figure>\n",
    "    <center><img src='image/w2b.png' alt='w2b' style=\"width: 300px;\"/></center>\n",
    "    <center><figcaption>$\\widehat{V}$: no continuity across cell facets.</figcaption></center>\n",
    "</figure>"
   ]
  },
  {
   "cell_type": "markdown",
   "metadata": {},
   "source": [
    "The trace of $V$ is a scalar-valued function space defined only on the mesh skeleton, $\\mathcal{E}$. It is constructed such that function in $T$ belong to the _same_ polynomial space as $\\mathbf{w}\\cdot\\mathbf{n}$, $\\mathbf{w} \\in V$:\n",
    "\n",
    "<figure>\n",
    "    <center><img src='image/w2t.png' alt='w2t' style=\"width: 250px;\"/></center>\n",
    "    <center><figcaption>The space of traces, $T$. Functions in this space are discontinuous across vertices.</figcaption></center>\n",
    "</figure>"
   ]
  },
  {
   "cell_type": "markdown",
   "metadata": {},
   "source": [
    "The approximations $\\hat{\\mathbf{u}}, D, \\lambda$ satisfy the following variational problem:\n",
    "\n",
    "$$\n",
    "\\begin{align}\n",
    "    \\color{red}{\\int_\\Omega \\hat{\\mathbf{w}}\\cdot\\hat{\\mathbf{u}}\\,\\mathrm{d}x +\n",
    "    \\beta\\int_\\Omega \\hat{\\mathbf{w}}\\cdot f\\hat{\\mathbf{u}}^\\perp\\,\\mathrm{d}x}\n",
    "    - \\color{teal}{g\\beta\\int_\\Omega D\\nabla\\cdot\\hat{\\mathbf{w}}\\,\\mathrm{d}x} +\n",
    "    \\color{purple}{\\sum_{K \\in \\Omega} \\int_{\\partial K} \\lambda \\hat{\\mathbf{w}}\\cdot\\mathbf{n}\\,\\mathrm{d}s}\n",
    "    &= -R\\lbrack \\hat{\\mathbf{u}} \\rbrack,\n",
    "    \\quad \\forall \\hat{\\mathbf{w}} \\in \\widehat{V}, \\\\\n",
    "    \\color{green}{\\int_\\Omega \\phi D\\,\\mathrm{d}x} +\n",
    "    \\color{teal}{H\\beta\\int_\\Omega \\phi\\nabla\\cdot\\hat{\\mathbf{u}}\\,\\mathrm{d}x} &= -R\\lbrack \\phi \\rbrack,\n",
    "    \\quad \\forall \\phi \\in U, \\\\\n",
    "    \\color{purple}{\\sum_{K \\in \\Omega} \\int_{\\partial K} \\gamma \\hat{\\mathbf{u}}\\cdot\\mathbf{n}\\,\\mathrm{d}s}\n",
    "    &= 0, \\quad\\quad\\quad \\forall \\gamma \\in T.\n",
    "\\end{align}\n",
    "$$\n",
    "\n",
    "This is the \"hybridized\" mixed method, resulting in an augmented system with an additional unknown $\\lambda$. It can be shown that $\\lambda$ is a scaled approximation of $D$, as the surface terms appear due to the fact that $\\hat{\\mathbf{u}}\\cdot\\mathbf{n}$ is no longer continuous between cell interfaces.\n",
    "\n",
    "The new velocity $\\hat{\\mathbf{u}}$, albeit sought a priori in a discontinuous space, actually coincides with its $H(\\text{div})$-conforming counterpart $\\mathbf{u}$. This is due to the fact that functions in $T$ are acting a Lagrange multipliers in the third equation, enforcing continuity of $\\hat{\\mathbf{u}}\\cdot\\mathbf{n}$ across facets"
   ]
  },
  {
   "cell_type": "markdown",
   "metadata": {},
   "source": [
    "### The discrete hybridized system\n",
    "\n",
    "The resulting discrete system is:\n",
    "\n",
    "$$\n",
    "\\begin{bmatrix}\n",
    "    \\color{red}{\\hat{A}} & -g\\beta\\color{teal}{B^T} & \\color{purple}{E^T} \\\\\n",
    "    H\\beta\\color{teal}{B} & \\color{green}{C} & 0 \\\\\n",
    "    \\color{purple}{E} & 0 & 0\n",
    "\\end{bmatrix}\n",
    "\\begin{Bmatrix}\n",
    "    \\hat{U} \\\\\n",
    "    D \\\\\n",
    "    \\Lambda\n",
    "\\end{Bmatrix} =\n",
    "\\begin{Bmatrix}\n",
    "    -R^n\\lbrack \\hat{\\mathbf{w}} \\rbrack \\\\\n",
    "    -R^n\\lbrack \\phi \\rbrack \\\\\n",
    "    0\n",
    "\\end{Bmatrix}.\n",
    "$$\n",
    "\n",
    "Upon initial inspection, it may appear that hybridizing the mixed problem is counter-productive. However, since $\\hat{U}$ and $D$ coupled within the cell interiors only, both can be **eliminated locally** via static condensation! A reduced problem for $\\Lambda$ can be formed:\n",
    "\n",
    "$$\n",
    "\\begin{bmatrix}\n",
    "    \\color{purple}{E} & 0\n",
    "\\end{bmatrix}\n",
    "\\begin{bmatrix}\n",
    "    \\color{red}{\\hat{A}} & -g\\beta\\color{teal}{B^T}\\\\\n",
    "    H\\beta\\color{teal}{B} & \\color{green}{C}\n",
    "\\end{bmatrix}^{-1}\n",
    "\\begin{bmatrix}\n",
    "    \\color{purple}{E^T} \\\\\n",
    "    0\n",
    "\\end{bmatrix}\n",
    "\\Lambda =\n",
    "\\begin{bmatrix}\n",
    "    \\color{purple}{E} & 0\n",
    "\\end{bmatrix}\n",
    "\\begin{bmatrix}\n",
    "    \\color{red}{\\hat{A}} & -g\\beta\\color{teal}{B^T}\\\\\n",
    "    H\\beta\\color{teal}{B} & \\color{green}{C}\n",
    "\\end{bmatrix}^{-1}\n",
    "\\begin{Bmatrix}\n",
    "    -R^n\\lbrack \\hat{\\mathbf{w}} \\rbrack \\\\\n",
    "    -R^n\\lbrack \\phi \\rbrack\n",
    "\\end{Bmatrix}.\n",
    "$$\n",
    "\n",
    "There are a number of advantages to inverting the $\\Lambda$ system over the original mixed problem.\n",
    "* The full hybridized system is **never** explicitly assembled, nor the sub-matrices (or the sub-blocks).\n",
    "\n",
    "* $\\color{red}{\\hat{A}}$, $\\color{teal}{B}$, and $\\color{green}{C}$ are all block-sparse.\n",
    "\n",
    "* The resulting condensed operator for $\\Lambda$ is spectrally similar to the exact Schur-complement $\\color{green}{C} + gH\\beta^2\\color{teal}{B}\\color{red}{A^{-1}}\\color{teal}{B^T}$ in the original formulation.\n",
    "\n",
    "* Once $\\Lambda$ is determined, $\\hat{U}$ and $D$ can be **recovered locally** by inverting the local systems:\n",
    "$$\n",
    "\\begin{Bmatrix}\n",
    "    \\hat{U} \\\\\n",
    "    D\n",
    "\\end{Bmatrix}\n",
    "=\n",
    "\\begin{bmatrix}\n",
    "    \\color{red}{\\hat{A}} & -g\\beta\\color{teal}{B^T}\\\\\n",
    "    H\\beta\\color{teal}{B} & \\color{green}{C}\n",
    "\\end{bmatrix}^{-1}\n",
    "\\left(\n",
    "\\begin{Bmatrix}\n",
    "    -R^n\\lbrack \\hat{\\mathbf{w}} \\rbrack \\\\\n",
    "    -R^n\\lbrack \\phi \\rbrack\n",
    "\\end{Bmatrix}\n",
    "-\n",
    "\\begin{bmatrix}\n",
    "    \\color{purple}{E^T}\\\\\n",
    "    0\n",
    "\\end{bmatrix}\n",
    "\\Lambda\\right).\n",
    "$$"
   ]
  },
  {
   "cell_type": "markdown",
   "metadata": {},
   "source": [
    "## Firedrake's hybridization interface\n",
    "\n",
    "(These methods are complicated... we offer a means to generate code for this)\n",
    "\n",
    "People are often dissuaded from hybridized finite element solvers for their tedious implementation stages. However, Firedrake possesses an abstraction layer for dense linear algebra on finite element matrices and vectors (Slate).\n",
    "\n",
    "(Use Firedrake's symbolic reasoning capability to automate the manipulations)\n",
    "\n",
    "This enables Firedrake to automatically generate code for the local static condensation and recovery operations necessary for a fully-implemented hybridization method.\n",
    "\n",
    "Building off of Firedrake's Python preconditioners, changing the code as above to use hybridization becomes a quick change in solver paramters:\n",
    "\n",
    "```python\n",
    "'mat_type': 'matfree',\n",
    "'pc_type': 'python',\n",
    "'pc_python_type': 'firedrake.HybridizationPC',\n",
    "```\n",
    "\n",
    "As with all PETSc preconditioners, the `HybridizationPC` can be configured through standard PETSc options. For example, just run:"
   ]
  },
  {
   "cell_type": "code",
   "execution_count": null,
   "metadata": {},
   "outputs": [],
   "source": [
    "hybrid_parameters = {'ksp_type': 'preonly',\n",
    "                     'mat_type': 'matfree',\n",
    "                     'pc_type': 'python',\n",
    "                     'pc_python_type': 'firedrake.HybridizationPC',\n",
    "                     # BCGS + AMG on the trace system\n",
    "                     'hybridization': {'ksp_type': 'bcgs',\n",
    "                                       'pc_type': 'gamg',\n",
    "                                       'ksp_rtol': 1e-7,\n",
    "                                       'mg_levels': {'ksp_type': 'richardson',\n",
    "                                                     'ksp_max_it': 5,\n",
    "                                                     'pc_type': 'bjacobi',\n",
    "                                                     'sub_pc_type': 'ilu'}}}"
   ]
  },
  {
   "cell_type": "markdown",
   "metadata": {},
   "source": [
    "By default, all local inversions are performed via an LU factorization with partial pivoting (unless if the local matrices are small enough to use explicit formulae). The generated code utilizes Eigen for all dense linear algebra. The `'hybridization'` options prefix allows one to directly specify solver options for the trace system.\n",
    "\n",
    "We remark here that since the hybridized solution for the velocity is in a discontinuous space, the result must be transfered back into the original $H(\\text{div})$-conforming finite element space. The preconditioner automatically projects the locally computed velocity back into the $H(\\text{div})$ space via local facet averaging.\n",
    "\n",
    "Now one can run the simulation just as before:"
   ]
  },
  {
   "cell_type": "code",
   "execution_count": null,
   "metadata": {},
   "outputs": [],
   "source": [
    "beta.assign(2000.0)      # set beta back to initial value\n",
    "wh.assign(0.0)\n",
    "uD_solver = LinearVariationalSolver(uD_problem,\n",
    "                                    solver_parameters=hybrid_parameters)\n",
    "uD_solver.solve()\n",
    "r = assemble(action(a, wh) - L)\n",
    "b = assemble(L)\n",
    "print(\"reduction in residual: %s\" % (r.dat.norm / b.dat.norm))"
   ]
  },
  {
   "cell_type": "markdown",
   "metadata": {},
   "source": [
    "Great! Now how about a closer look at the solver."
   ]
  },
  {
   "cell_type": "markdown",
   "metadata": {},
   "source": [
    "### Parameter independence of the hybridization preconditioner\n",
    "\n",
    "Let's stress out the hybridization solver a bit. First, let's activate the KSP monitor associated with the trace variables:"
   ]
  },
  {
   "cell_type": "code",
   "execution_count": null,
   "metadata": {},
   "outputs": [],
   "source": [
    "hybrid_parameters['hybridization']['ksp_monitor_true_residual'] = True"
   ]
  },
  {
   "cell_type": "markdown",
   "metadata": {},
   "source": [
    "Now let's check our inner trace iterations:"
   ]
  },
  {
   "cell_type": "code",
   "execution_count": null,
   "metadata": {},
   "outputs": [],
   "source": [
    "uD_solver._problem.u.assign(0.0)\n",
    "uD_solver = LinearVariationalSolver(uD_problem,\n",
    "                                    solver_parameters=hybrid_parameters)\n",
    "uD_solver.solve()\n",
    "\n",
    "# get the ksp associated with the trace system\n",
    "trace_ksp = uD_solver.snes.ksp.getPC().getPythonContext().trace_ksp\n",
    "\n",
    "print(\"bcgs iterations = {}, converged reason = {}\".format(\n",
    "       trace_ksp.getIterationNumber(), \n",
    "       KSPReasons[trace_ksp.getConvergedReason()]))"
   ]
  },
  {
   "cell_type": "markdown",
   "metadata": {},
   "source": [
    "Just as we previously did with our approximate Schur-complement preconditioner, let's go ahead and start a sequence $\\beta$-parametrized runs:"
   ]
  },
  {
   "cell_type": "code",
   "execution_count": null,
   "metadata": {},
   "outputs": [],
   "source": [
    "def solve_saddle_point_hybrid(beta_val=2000.0, options=None, print_reduction=False):\n",
    "\n",
    "    print(\"beta: %s\" % beta_val)\n",
    "\n",
    "    beta.assign(beta_val)\n",
    "    uD_problem.u.assign(0.0)\n",
    "    uD_solver = LinearVariationalSolver(uD_problem, solver_parameters=options)\n",
    "    uD_solver.solve()\n",
    "\n",
    "    # get the ksp associated with the trace system\n",
    "    trace_ksp = uD_solver.snes.ksp.getPC().getPythonContext().trace_ksp\n",
    "\n",
    "    print(\"bcgs iterations = {}, converged reason = {}\".format(\n",
    "           trace_ksp.getIterationNumber(), \n",
    "           KSPReasons[trace_ksp.getConvergedReason()]))\n",
    "\n",
    "    if print_reduction:\n",
    "        r = assemble(action(a, wh) - L)\n",
    "        b = assemble(L)\n",
    "        print(\"reduction in residual: %s\\n\" % (r.dat.norm / b.dat.norm))\n",
    "\n",
    "for beta_val in [4000.0, 8000.0, 16000.0, 32000.0, 64000.0, 128000.0]:\n",
    "    solve_saddle_point_hybrid(beta_val=beta_val, options=hybrid_parameters, print_reduction=True)"
   ]
  },
  {
   "cell_type": "markdown",
   "metadata": {},
   "source": [
    "Using hybridization, we make it all the way through. Since $\\beta$ effects the conditioning of the trace operator, it's not unreasonable to expect that the iterative solver will need to work harder. Even with this in mind, far fewer Krylov iterations are needed overall!"
   ]
  },
  {
   "cell_type": "markdown",
   "metadata": {},
   "source": [
    "### Solver time comparison"
   ]
  },
  {
   "cell_type": "markdown",
   "metadata": {},
   "source": [
    "Let's set up a problem and solve once using preconditioned GMRES and once with hybridization. Taking a modest value for $\\beta$, we can use builtin notebook magic to time the execution of the solve:"
   ]
  },
  {
   "cell_type": "code",
   "execution_count": null,
   "metadata": {},
   "outputs": [],
   "source": [
    "beta.assign(32000.0)\n",
    "\n",
    "uD_problem.u.assign(0.0)\n",
    "solver_parameters = {'ksp_type': 'gmres',\n",
    "                     'ksp_rtol': 1.0e-7,\n",
    "                     'ksp_max_it': 1500,\n",
    "                     'pc_type': 'fieldsplit',\n",
    "                     'pc_fieldsplit_type': 'schur',\n",
    "                     'pc_fieldsplit_schur_fact_type': 'full',\n",
    "                     'pc_fieldsplit_schur_precondition': 'selfp',\n",
    "                     'fieldsplit_0': {'ksp_type': 'preonly',\n",
    "                                      'pc_type': 'bjacobi',\n",
    "                                      'sub_pc_type': 'ilu'},\n",
    "                     'fieldsplit_1': {'ksp_type': 'preonly',\n",
    "                                      'pc_type': 'gamg',\n",
    "                                      'mg_levels': {'ksp_type': 'chebyshev',\n",
    "                                                    'ksp_max_it': 5,\n",
    "                                                    'pc_type': 'bjacobi',\n",
    "                                                    'sub_pc_type': 'ilu'}}}\n",
    "uD_solver = LinearVariationalSolver(uD_problem, solver_parameters=solver_parameters)\n",
    "\n",
    "# times the execution of this line\n",
    "%timeit uD_solver.solve()"
   ]
  },
  {
   "cell_type": "markdown",
   "metadata": {},
   "source": [
    "And now for hybridization:"
   ]
  },
  {
   "cell_type": "code",
   "execution_count": null,
   "metadata": {},
   "outputs": [],
   "source": [
    "uD_problem.u.assign(0.0)\n",
    "hybrid_parameters = {'ksp_type': 'preonly',\n",
    "                     'mat_type': 'matfree',\n",
    "                     'pc_type': 'python',\n",
    "                     'pc_python_type': 'firedrake.HybridizationPC',\n",
    "                     'hybridization': {'ksp_type': 'bcgs',\n",
    "                                       'pc_type': 'gamg',\n",
    "                                       'ksp_rtol': 1e-7,\n",
    "                                       'mg_levels': {'ksp_type': 'richardson',\n",
    "                                                     'ksp_max_it': 5,\n",
    "                                                     'pc_type': 'bjacobi',\n",
    "                                                     'sub_pc_type': 'ilu'}}}\n",
    "uD_solver = LinearVariationalSolver(uD_problem, solver_parameters=hybrid_parameters)\n",
    "%timeit uD_solver.solve()"
   ]
  }
 ],
 "metadata": {
  "kernelspec": {
   "display_name": "Python 3",
   "language": "python",
   "name": "python3"
  },
  "language_info": {
   "codemirror_mode": {
    "name": "ipython",
    "version": 3
   },
   "file_extension": ".py",
   "mimetype": "text/x-python",
   "name": "python",
   "nbconvert_exporter": "python",
   "pygments_lexer": "ipython3",
   "version": "3.7.2"
  }
 },
 "nbformat": 4,
 "nbformat_minor": 1
}
