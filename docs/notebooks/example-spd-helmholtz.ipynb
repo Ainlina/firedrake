{
 "cells": [
  {
   "cell_type": "code",
   "execution_count": null,
   "metadata": {},
   "outputs": [],
   "source": [
    "# This magic makes plots appear in the browser\n",
    "%matplotlib notebook"
   ]
  },
  {
   "cell_type": "markdown",
   "metadata": {},
   "source": [
    "# The positive-definite Helmholtz equation"
   ]
  },
  {
   "cell_type": "markdown",
   "metadata": {},
   "source": [
    "We start by considering the symmetric positive definite \"Helmholtz\" problem on a unit square domain $\\Omega$ with boundary $\\Gamma$. We seek to find the solution $u \\in V$, where $V$ is some finite element space, satisfying the boundary value problem:"
   ]
  },
  {
   "cell_type": "markdown",
   "metadata": {},
   "source": [
    "$$ -\\nabla^2 u + u = f \\text{ on } \\Omega = [0, 1] \\times [0, 1] \\\\\n",
    "\\nabla u \\cdot \\vec{n} = 0 \\text{ on } \\Gamma $$"
   ]
  },
  {
   "cell_type": "markdown",
   "metadata": {},
   "source": [
    "where $\\vec{n}$ is the outward-pointing unit normal to $\\Gamma$ and $f \\in V$ is a known source function.  Note that the Laplacian and mass terms have opposite signs which makes this equation much more benign than the symmetric, indefinite operator $(\\nabla^2 + I)$.\n",
    "\n",
    "Now, we write the problem in its variational form by multiplying by a test function $v \\in V$ and integrating by parts over the domain $\\Omega$:"
   ]
  },
  {
   "cell_type": "markdown",
   "metadata": {
    "collapsed": true
   },
   "source": [
    "$$ \\int_\\Omega \\nabla u\\cdot\\nabla v  + uv\\ \\mathrm{d}x = \\int_\\Omega\n",
    "vf\\ \\mathrm{d}x + \\underbrace{\\int_\\Gamma v \\nabla u \\cdot \\vec{n}\\, \\mathrm{d} s}_{=0}. $$"
   ]
  },
  {
   "cell_type": "markdown",
   "metadata": {},
   "source": [
    "Note that the boundary condition has been enforced weakly by removing the surface integral term resulting from the integration by parts."
   ]
  },
  {
   "cell_type": "markdown",
   "metadata": {},
   "source": [
    "We will now proceed to solve this problem using an $H^1$ conforming method. The full finite element problem reads as follows: find $u \\in V$ such that:"
   ]
  },
  {
   "cell_type": "markdown",
   "metadata": {},
   "source": [
    "$$ \\int_\\Omega \\nabla u\\cdot\\nabla v  + uv\\ \\mathrm{d}x = \\int_\\Omega\n",
    "vf\\ \\mathrm{d}x, \\text{ for all } v \\in V. $$"
   ]
  },
  {
   "cell_type": "markdown",
   "metadata": {},
   "source": [
    "We can choose the source function $f$, so lets take it to be:"
   ]
  },
  {
   "cell_type": "markdown",
   "metadata": {},
   "source": [
    "$$ f(x, y) = (1.0 + 8.0\\pi^2)\\cos(2\\pi x)\\cos(2\\pi y). $$"
   ]
  },
  {
   "cell_type": "markdown",
   "metadata": {},
   "source": [
    "This conveniently yields the analytical solution:"
   ]
  },
  {
   "cell_type": "markdown",
   "metadata": {},
   "source": [
    "$$ u(x, y) = \\cos(2\\pi x)\\cos(2\\pi y). $$"
   ]
  },
  {
   "cell_type": "markdown",
   "metadata": {},
   "source": [
    "However we wish to employ this as an example for the finite element method, so lets go ahead and produce a numerical solution. First, we need our domain $\\Omega$. Firedrake can read meshes from a number of popular mesh generators.  In addition, it provides utility functions to create many \"standard\" meshes in one, two, and three dimensions.  For a complete list of provided meshes, we can peruse the [online Firedrake documentation](http://firedrakeproject.org/firedrake.html#module-firedrake.utility_meshes).  Unsurprisingly, amongst them is a `UnitSquareMesh`."
   ]
  },
  {
   "cell_type": "markdown",
   "metadata": {},
   "source": [
    "To start, we must make Firedrake available in the notebook.  It is available as a normal Python package, named `firedrake`.  To save on typing, we will import all of the public API into the current namespace"
   ]
  },
  {
   "cell_type": "code",
   "execution_count": null,
   "metadata": {},
   "outputs": [],
   "source": [
    "from firedrake import *"
   ]
  },
  {
   "cell_type": "markdown",
   "metadata": {},
   "source": [
    "Now we want to define our mesh.  We already know that `UnitSquareMesh` will give us an appropriate mesh of the domain $\\Omega$, but what are the arguments to the constructor?  The user-facing API is usually well-documented, and we can access this information via Python using the builtin `help` command:"
   ]
  },
  {
   "cell_type": "code",
   "execution_count": null,
   "metadata": {},
   "outputs": [],
   "source": [
    "help(UnitSquareMesh)"
   ]
  },
  {
   "cell_type": "markdown",
   "metadata": {},
   "source": [
    "We'll get to what some of the other arguments mean later, but right now we see that the first two allow us to specify the number of cells in the x-, and y-directions respectively."
   ]
  },
  {
   "cell_type": "code",
   "execution_count": null,
   "metadata": {},
   "outputs": [],
   "source": [
    "mesh = UnitSquareMesh(10, 10)"
   ]
  },
  {
   "cell_type": "markdown",
   "metadata": {},
   "source": [
    "What does this mesh look like?  In one and two dimensions, Firedrake has some built in plotting of meshes and functions, using matplotlib (that's why we had the magic matplotlib line at the top of this notebook)."
   ]
  },
  {
   "cell_type": "code",
   "execution_count": null,
   "metadata": {
    "scrolled": true
   },
   "outputs": [],
   "source": [
    "# NBVAL_IGNORE_OUTPUT\n",
    "# We test the output of the notebooks with out continuous integration system to\n",
    "# make sure they run.\n",
    "# Unfortunately we can't compare the plots from run to run, so the above line\n",
    "# indicates that the output of this cell should be ignored for the purposes\n",
    "# of testing.\n",
    "\n",
    "plot(mesh); # The semicolon suppresses the return value, so the plot doesn't appear twice"
   ]
  },
  {
   "cell_type": "markdown",
   "metadata": {},
   "source": [
    "Having selected a discretisation of our domain $\\Omega$, we need to decide on the finite-dimensional function space $V_h \\subset V$ in which we’d like to solve the problem. We'll choose the simplest space:"
   ]
  },
  {
   "cell_type": "code",
   "execution_count": null,
   "metadata": {},
   "outputs": [],
   "source": [
    "V = FunctionSpace(mesh, \"CG\", 1)"
   ]
  },
  {
   "cell_type": "markdown",
   "metadata": {},
   "source": [
    "We now define the problem.  We'll create the _symbolic_ objects that correspond to test and trial spaces, and the linear and bilinear forms in our problem."
   ]
  },
  {
   "cell_type": "code",
   "execution_count": null,
   "metadata": {},
   "outputs": [],
   "source": [
    "u = TrialFunction(V)\n",
    "v = TestFunction(V)"
   ]
  },
  {
   "cell_type": "markdown",
   "metadata": {},
   "source": [
    "For the right hand side forcing, we'll use a UFL expression, incorporating information about the x and y coordinates.  We make a symbolic representation of the coordinates in our mesh (these will be evaluated when we actually do the calculation)."
   ]
  },
  {
   "cell_type": "code",
   "execution_count": null,
   "metadata": {},
   "outputs": [],
   "source": [
    "x, y = SpatialCoordinate(mesh)\n",
    "f = (1 + 8*pi*pi)*cos(2*pi*x)*cos(2*pi*y)"
   ]
  },
  {
   "cell_type": "markdown",
   "metadata": {},
   "source": [
    "We can now define the bilinear and linear forms for the left and right hand sides of our equation respectively in UFL:"
   ]
  },
  {
   "cell_type": "code",
   "execution_count": null,
   "metadata": {},
   "outputs": [],
   "source": [
    "a = (dot(grad(v), grad(u)) + v * u) * dx\n",
    "L = f * v * dx"
   ]
  },
  {
   "cell_type": "markdown",
   "metadata": {},
   "source": [
    "Observe the similarity with the equations (with all credit due to the FEniCS project!):\n",
    "$$ \\int_\\Omega \\nabla u\\cdot\\nabla v  + uv\\ \\mathrm{d}x = \\int_\\Omega\n",
    "vf\\ \\mathrm{d}x, \\text{ for all } v \\in V. $$"
   ]
  },
  {
   "cell_type": "markdown",
   "metadata": {},
   "source": [
    "Finally we are now ready to solve the equation. We define $u_h$ to be a function holding the solution:"
   ]
  },
  {
   "cell_type": "code",
   "execution_count": null,
   "metadata": {},
   "outputs": [],
   "source": [
    "uh = Function(V)"
   ]
  },
  {
   "cell_type": "markdown",
   "metadata": {},
   "source": [
    "Since we know that the Helmholtz equation defines a symmetric problem, we instruct PETSc to employ the conjugate gradient method:"
   ]
  },
  {
   "cell_type": "code",
   "execution_count": null,
   "metadata": {},
   "outputs": [],
   "source": [
    "solve(a == L, uh, solver_parameters={'ksp_type': 'cg'})"
   ]
  },
  {
   "cell_type": "markdown",
   "metadata": {},
   "source": [
    "Let's have a look at the solution, remember we can `plot` both meshes and Functions."
   ]
  },
  {
   "cell_type": "code",
   "execution_count": null,
   "metadata": {},
   "outputs": [],
   "source": [
    "# NBVAL_IGNORE_OUTPUT\n",
    "plot(uh);"
   ]
  },
  {
   "cell_type": "markdown",
   "metadata": {},
   "source": [
    "Since we chose a forcing function for which we know the exact solution, we can compute the difference between the approximate solution and the exact solution interpolated to the space of the approximate solution.  Remember, that the exact solution $u^* = \\cos(2\\pi x)\\cos(2\\pi y)$."
   ]
  },
  {
   "cell_type": "code",
   "execution_count": null,
   "metadata": {},
   "outputs": [],
   "source": [
    "u_exact = cos(2*pi*x)*cos(2*pi*y)"
   ]
  },
  {
   "cell_type": "code",
   "execution_count": null,
   "metadata": {},
   "outputs": [],
   "source": [
    "# NBVAL_IGNORE_OUTPUT\n",
    "difference = assemble(interpolate(u_exact, V) - uh)\n",
    "plot(difference);"
   ]
  },
  {
   "cell_type": "markdown",
   "metadata": {},
   "source": [
    "# Inhomogeneous Neuman conditions\n",
    "\n",
    "Let's consider this case:\n",
    "\n",
    "$$ -\\nabla^2 u + u = f \\text{ on } \\Omega = [0, 1] \\times [0, 1] \\\\\n",
    "\\nabla u \\cdot \\vec{n} = g = 1 \\text{ on } \\Gamma_1 \\\\\n",
    "\\nabla u \\cdot \\vec{n} = 0 \\text{ on } \\Gamma \\setminus \\Gamma_1$$\n",
    "\n",
    "where $\\Gamma_1$ is the boundary $x = 0$."
   ]
  },
  {
   "cell_type": "markdown",
   "metadata": {
    "collapsed": true
   },
   "source": [
    "As previously, we introduce a test function $v \\in V$, multiply and integrate.  After integrating by parts, we obtain\n",
    "\n",
    "$$ \\int_\\Omega \\nabla u\\cdot\\nabla v  + uv\\ \\mathrm{d}x = \\int_\\Omega\n",
    "vf\\ \\mathrm{d}x + \\underbrace{\\int_{\\Gamma\\setminus \\Gamma_1} v \\nabla u \\cdot \\vec{n}\\, \\mathrm{d} s}_{=0} + \\int_{\\Gamma_1} v \\nabla u \\cdot \\vec{n}\\,\\mathrm{d} s.$$\n",
    "\n",
    "The first surface integral over $\\Gamma \\setminus \\Gamma_1$ vanishes, since $\\nabla u \\cdot \\vec{n} = 0$.  The second, however, does not.  Substituting the boundary value we obtain\n",
    "\n",
    "$$ \\int_\\Omega \\nabla u\\cdot\\nabla v  + uv\\ \\mathrm{d}x = \\int_\\Omega\n",
    "vf\\ \\mathrm{d}x + \\int_{\\Gamma_1} v g\\,\\mathrm{d} s.$$\n",
    "To make the solution obvious, we set $f=0$."
   ]
  },
  {
   "cell_type": "code",
   "execution_count": null,
   "metadata": {},
   "outputs": [],
   "source": [
    "mesh = UnitSquareMesh(10, 10)\n",
    "V = FunctionSpace(mesh, \"CG\", 1)\n",
    "u = TrialFunction(V)\n",
    "v = TestFunction(V)\n",
    "x, y = SpatialCoordinate(mesh)\n",
    "f = Constant(0)\n",
    "a = (dot(grad(v), grad(u)) + v * u) * dx"
   ]
  },
  {
   "cell_type": "markdown",
   "metadata": {},
   "source": [
    "Up to now, everything is as before.  We now define the right hand side.  A bare `ds` would integrate over all exterior facets, we select the facets corresponding to $x = 0$ by specifying the appropriate mesh marker."
   ]
  },
  {
   "cell_type": "code",
   "execution_count": null,
   "metadata": {},
   "outputs": [],
   "source": [
    "g = Constant(1)\n",
    "L = f*v*dx + g*v*ds(1)"
   ]
  },
  {
   "cell_type": "markdown",
   "metadata": {},
   "source": [
    "For builtin meshes, the boundary markers are documented:"
   ]
  },
  {
   "cell_type": "code",
   "execution_count": null,
   "metadata": {},
   "outputs": [],
   "source": [
    "help(UnitSquareMesh)"
   ]
  },
  {
   "cell_type": "markdown",
   "metadata": {},
   "source": [
    "Now to solve the problem"
   ]
  },
  {
   "cell_type": "code",
   "execution_count": null,
   "metadata": {
    "scrolled": true
   },
   "outputs": [],
   "source": [
    "uh = Function(V)\n",
    "solve(a == L, uh, solver_parameters={\"ksp_type\": \"cg\"})\n",
    "# NBVAL_IGNORE_OUTPUT\n",
    "plot(uh);"
   ]
  },
  {
   "cell_type": "markdown",
   "metadata": {},
   "source": [
    "Now plot your solution."
   ]
  },
  {
   "cell_type": "markdown",
   "metadata": {},
   "source": [
    "# Dirichlet conditions\n",
    "\n",
    "Suppose instead we wanted to solve:\n",
    "Let's consider this case:\n",
    "\n",
    "$$ -\\nabla^2 u + u = 0 \\text{ on } \\Omega = [0, 1] \\times [0, 1] \\\\\n",
    "u = \\cos(2\\pi x)\\cos(2\\pi y) \\text{ on }\\Gamma. \n",
    "$$\n",
    "\n",
    "This time the boundary condition is a modification to the solution space. We build the problem as before:"
   ]
  },
  {
   "cell_type": "code",
   "execution_count": null,
   "metadata": {},
   "outputs": [],
   "source": [
    "mesh = UnitSquareMesh(10, 10)\n",
    "V = FunctionSpace(mesh, \"CG\", 1)\n",
    "u = TrialFunction(V)\n",
    "v = TestFunction(V)\n",
    "x, y = SpatialCoordinate(mesh)\n",
    "f = Constant(0)\n",
    "a = (dot(grad(v), grad(u)) + v * u) * dx\n",
    "L = f * v * dx"
   ]
  },
  {
   "cell_type": "markdown",
   "metadata": {},
   "source": [
    "Now we need a new object containing the modification to the solution space."
   ]
  },
  {
   "cell_type": "code",
   "execution_count": null,
   "metadata": {},
   "outputs": [],
   "source": [
    "x, y = SpatialCoordinate(mesh)\n",
    "bc = DirichletBC(V, cos(2*pi*x)*cos(2*pi*y), (1,2,3,4))"
   ]
  },
  {
   "cell_type": "markdown",
   "metadata": {},
   "source": [
    "The last argument is the set of boundaries to which this condition will apply. We can now solve, adding the BC in."
   ]
  },
  {
   "cell_type": "code",
   "execution_count": null,
   "metadata": {},
   "outputs": [],
   "source": [
    "uh = Function(V)\n",
    "solve(a==L, uh, bcs=bc, solver_parameters={\"ksp_type\": \"cg\"})\n",
    "# NBVAL_IGNORE_OUTPUT\n",
    "plot(uh);"
   ]
  },
  {
   "cell_type": "code",
   "execution_count": null,
   "metadata": {},
   "outputs": [],
   "source": []
  }
 ],
 "metadata": {
  "kernelspec": {
   "display_name": "Python 3",
   "language": "python",
   "name": "python3"
  },
  "language_info": {
   "codemirror_mode": {
    "name": "ipython",
    "version": 3
   },
   "file_extension": ".py",
   "mimetype": "text/x-python",
   "name": "python",
   "nbconvert_exporter": "python",
   "pygments_lexer": "ipython3",
   "version": "3.7.3"
  }
 },
 "nbformat": 4,
 "nbformat_minor": 1
}
