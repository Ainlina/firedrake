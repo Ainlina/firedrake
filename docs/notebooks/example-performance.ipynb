{
 "cells": [
  {
   "cell_type": "markdown",
   "metadata": {},
   "source": [
    "# Optimal complexity finite element assembly"
   ]
  },
  {
   "cell_type": "markdown",
   "metadata": {},
   "source": [
    "## Sum factorisation\n",
    "TSFC \\[1\\], the form compiler in Firedrake, generates the local assembly kernels from the weak forms of the PDEs, applying optimisations during the process to reduce the number of floating-point operations (FLOPs) required for the assembly computation. For *tensor product elements*, TSFC is capable of exploiting the intrinsic structure of the finite element, provided by FInAT \\[2\\], and apply *sum factorisation* to generate kernels with optimal algorithmic complexity."
   ]
  },
  {
   "cell_type": "markdown",
   "metadata": {},
   "source": [
    "Consider a hexahedral element, which is a 3D tensor product element created by the product of 1D intervals. Each quadrature point $X$ can be represented as a 3-tuple $q=\\{q_1,q_2,q_3\\}$, and each basis function by a 3-tuple $i = \\{i_1,i_2,i_3\\}$. Thus the naive local assembly kernel for the local tensor $A_{ij}$ contains the loop structure:\n",
    "```\n",
    "for q1, q2, q3\n",
    "  for i1, i2, i3\n",
    "    for j1, j2, j3\n",
    "      A[i1,i2,i3,j1,j2,j3] += ...\n",
    "```\n",
    "This requires $O(N_{q}^3N_{j}^6)$ FLOPs. For polynomial degree $n$, both $N_q$ and $N_j$ are $O(n)$, so this local assembly requires $O(n^9)$ FLOPs."
   ]
  },
  {
   "cell_type": "markdown",
   "metadata": {},
   "source": [
    "But here we can rewrite the tabulation of the basis functions as tensor products of the tabulation tensors of the component elements:\n",
    "\\begin{aligned}\n",
    "\\Phi_{iq} &\\equiv \\Phi^1_{i_1q_1}\\Phi^2_{i_2q_2}\\Phi^3_{i_3q_3} \\\\\n",
    "and\\quad D\\Phi_{iq} &\\equiv D\\Phi^1_{i_1q_1}\\Phi^2_{i_2q_2}\\Phi^3_{i_3q_3},\n",
    "\\end{aligned}\n",
    "so that loop-invariant computation can be hoisted out of the innermost loop into temporary variables:\n",
    "```\n",
    "for q1, i1, j1\n",
    "  t1 = ...\n",
    "    for q2, i2, j2\n",
    "      t2 = ...\n",
    "        for q3, i3, j3\n",
    "          A[i1,i2,i3,j1,j2,j3] += t1*t2*...\n",
    "```\n",
    "This reduces the complexity to $O(n^7)$."
   ]
  },
  {
   "cell_type": "markdown",
   "metadata": {},
   "source": [
    "TSFC organises the optimisation passes into *modes*. The default mode is *spectral*, which applies sum factorisation to determine the tensor contraction order, and at each level, apply *argument factorisation* to rearrange the expression using associative and distributive laws. The modes can be selected by setting parameters. As an example, we look at the assembly of Laplace operator on a hexahedral mesh."
   ]
  },
  {
   "cell_type": "code",
   "execution_count": null,
   "metadata": {},
   "outputs": [],
   "source": [
    "from firedrake import *"
   ]
  },
  {
   "cell_type": "markdown",
   "metadata": {},
   "source": [
    "We can create a hexahedral mesh by extruding a quadrilateral."
   ]
  },
  {
   "cell_type": "code",
   "execution_count": null,
   "metadata": {},
   "outputs": [],
   "source": [
    "mesh = ExtrudedMesh(UnitSquareMesh(10, 10, quadrilateral=True), 10)"
   ]
  },
  {
   "cell_type": "markdown",
   "metadata": {},
   "source": [
    "Let's choose the continuous Lagrange element of degree 5 as our function space."
   ]
  },
  {
   "cell_type": "code",
   "execution_count": null,
   "metadata": {},
   "outputs": [],
   "source": [
    "n = 5\n",
    "V = FunctionSpace(mesh, \"CG\", n)\n",
    "u = TrialFunction(V)\n",
    "v = TestFunction(V)\n",
    "a = dot(grad(u), grad(v)) *dx  # Laplace operator"
   ]
  },
  {
   "cell_type": "markdown",
   "metadata": {},
   "source": [
    "Firedrake internalise the process of local assembly, to look at the kernel, we need to import the compilation function from TSFC."
   ]
  },
  {
   "cell_type": "code",
   "execution_count": null,
   "metadata": {},
   "outputs": [],
   "source": [
    "from tsfc import compile_form"
   ]
  },
  {
   "cell_type": "markdown",
   "metadata": {},
   "source": [
    "Let's first try the *vanilla* mode, which does as little optimisation as possible"
   ]
  },
  {
   "cell_type": "code",
   "execution_count": null,
   "metadata": {},
   "outputs": [],
   "source": [
    "kernel_vanilla, = compile_form(a, parameters={\"mode\": \"vanilla\"})"
   ]
  },
  {
   "cell_type": "markdown",
   "metadata": {},
   "source": [
    "The COFFEE package provides some useful tools to inspect the local assembly kernel, such as the FLOPs estimator."
   ]
  },
  {
   "cell_type": "code",
   "execution_count": null,
   "metadata": {},
   "outputs": [],
   "source": [
    "from coffee.visitors import EstimateFlops\n",
    "print(\"Local assembly FLOPs with vanilla mode is {0:.3g}\".format(EstimateFlops().visit(kernel_vanilla.ast)))"
   ]
  },
  {
   "cell_type": "markdown",
   "metadata": {},
   "source": [
    "Now we do the same but with the *spectral* mode, which is the default mode in TSFC and implements sum factorisation."
   ]
  },
  {
   "cell_type": "code",
   "execution_count": null,
   "metadata": {},
   "outputs": [],
   "source": [
    "kernel_spectral, = compile_form(a, parameters={\"mode\": \"spectral\"})\n",
    "print(\"Local assembly FLOPs with spectral mode is {0:.3g}\".format(EstimateFlops().visit(kernel_spectral.ast)))"
   ]
  },
  {
   "cell_type": "markdown",
   "metadata": {},
   "source": [
    "This is a 34x reduction in FLOPs. Not too bad, but there's opportunity to do better. For spectral elements, if we use the Gauss–Lobatto–Legendre (GLL) quadrature scheme, which has quadrature points collated with the Lagrange basis function nodes, then we know that the basis function tabulation is an indentity matrix. TSFC and FInAT can further simplify the loop structure of the local assembly kernels. This reduces the complexity to $O(n^5)$"
   ]
  },
  {
   "cell_type": "markdown",
   "metadata": {},
   "source": [
    "We need to specify the GLL quadrature scheme for hexahedra. We can do this with FIAT, which defines GLL on intervals, and FInAT, which makes the tensor product scheme from the interval scheme."
   ]
  },
  {
   "cell_type": "code",
   "execution_count": null,
   "metadata": {},
   "outputs": [],
   "source": [
    "import FIAT, finat\n",
    "\n",
    "def gauss_lobatto_legendre_line_rule(degree):\n",
    "    fiat_make_rule = FIAT.quadrature.GaussLobattoLegendreQuadratureLineRule\n",
    "    fiat_rule = fiat_make_rule(FIAT.ufc_simplex(1), degree + 1)\n",
    "    finat_ps = finat.point_set.GaussLobattoLegendrePointSet\n",
    "    finat_qr = finat.quadrature.QuadratureRule\n",
    "    return finat_qr(finat_ps(fiat_rule.get_points()), fiat_rule.get_weights())\n",
    "\n",
    "def gauss_lobatto_legendre_cube_rule(dimension, degree):\n",
    "    make_tensor_rule = finat.quadrature.TensorProductQuadratureRule\n",
    "    result = gauss_lobatto_legendre_line_rule(degree)\n",
    "    for _ in range(1, dimension):\n",
    "        line_rule = gauss_lobatto_legendre_line_rule(degree)\n",
    "        result = make_tensor_rule([result, line_rule])\n",
    "    return result"
   ]
  },
  {
   "cell_type": "markdown",
   "metadata": {},
   "source": [
    "We start by creating the spectral finite element function space of the same polynomial degree."
   ]
  },
  {
   "cell_type": "code",
   "execution_count": null,
   "metadata": {},
   "outputs": [],
   "source": [
    "element = FiniteElement('CG', mesh.ufl_cell(), degree=n, variant='spectral')  # CG or Q?\n",
    "V = FunctionSpace(mesh, element)\n",
    "u = TrialFunction(V)\n",
    "v = TestFunction(V)"
   ]
  },
  {
   "cell_type": "markdown",
   "metadata": {},
   "source": [
    "We need to tell Firedrake to use the GLL quadratures for numerical integration."
   ]
  },
  {
   "cell_type": "code",
   "execution_count": null,
   "metadata": {},
   "outputs": [],
   "source": [
    "gll_quadrature_rule = gauss_lobatto_legendre_cube_rule(dimension=3, degree=n)\n",
    "a_gll = dot(grad(u), grad(v)) *dx(rule=gll_quadrature_rule)"
   ]
  },
  {
   "cell_type": "code",
   "execution_count": null,
   "metadata": {},
   "outputs": [],
   "source": [
    "kernel_gll, = compile_form(a_gll, parameters={\"mode\": \"spectral\"})\n",
    "print(\"Local assembly FLOPs with GLL quadrature is {0:.3g}\".format(EstimateFlops().visit(kernel_gll.ast)))"
   ]
  },
  {
   "cell_type": "markdown",
   "metadata": {},
   "source": [
    "This is a further 10x reduction in FLOPs.\n",
    "\n",
    "Finally, let's verify that we achieve the expected asymptotic algorithmic complexity with respect to polynomial degrees."
   ]
  },
  {
   "cell_type": "code",
   "execution_count": null,
   "metadata": {},
   "outputs": [],
   "source": [
    "from collections import defaultdict\n",
    "\n",
    "flops = defaultdict(list)\n",
    "ns = range(1, 33)\n",
    "modes = {\n",
    "    'gll': {'mode': 'spectral', 'variant': 'spectral', 'rule': gauss_lobatto_legendre_cube_rule},\n",
    "    'spectral': {'mode': 'spectral', 'variant': None, 'rule': lambda *args: None},\n",
    "    'vanilla': {'mode': 'vanilla', 'variant': None, 'rule': lambda *args: None}\n",
    "}\n",
    "\n",
    "for n in ns:\n",
    "    for mode in modes:\n",
    "        element = FiniteElement('CG', mesh.ufl_cell(), degree=n, variant=modes[mode]['variant'])\n",
    "        V = FunctionSpace(mesh, element)\n",
    "        u = TrialFunction(V)\n",
    "        v = TestFunction(V)\n",
    "        a = dot(grad(u), grad(v))*dx(rule=modes[mode]['rule'](3, n))\n",
    "        kernel, = compile_form(a, parameters={\"mode\": modes[mode]['mode']})\n",
    "        flops[mode].append(EstimateFlops().visit(kernel.ast))"
   ]
  },
  {
   "cell_type": "code",
   "execution_count": null,
   "metadata": {},
   "outputs": [],
   "source": [
    "%matplotlib notebook\n",
    "import numpy\n",
    "import matplotlib.pyplot as plt\n",
    "\n",
    "fig, ax = plt.subplots(1, 1)\n",
    "# ax.set_xscale('log')\n",
    "ax.set_yscale('log')\n",
    "for mode in modes:\n",
    "    ax.plot(ns, flops[mode], label=mode)\n",
    "x = numpy.linspace(1, 32, 100)\n",
    "for p, style in zip([5,7,9], ['-.','--',':']):\n",
    "    ax.plot(x, numpy.power(x, p), label=r\"$n^{0}$\".format(p), color='grey', linestyle=style)\n",
    "ax.legend(loc='upper left');"
   ]
  },
  {
   "cell_type": "markdown",
   "metadata": {},
   "source": [
    "## More to come ... "
   ]
  },
  {
   "cell_type": "markdown",
   "metadata": {},
   "source": [
    "### automated SIMD vectorisation with loo.py\n",
    "\n",
    "SIMD vectorisation achieves significant fraction of peak performance on Intel Skylake Xeon with AVX512 instructions\n",
    "![simd](image/skylake-simd.png)"
   ]
  },
  {
   "cell_type": "code",
   "execution_count": null,
   "metadata": {},
   "outputs": [],
   "source": []
  },
  {
   "cell_type": "markdown",
   "metadata": {},
   "source": [
    "## References\n",
    "\\[1\\] Homolya, M., Mitchell, L., Luporini, F. and Ham, D.A., 2018. TSFC: a structure-preserving form compiler. SIAM Journal on Scientific Computing, 40(3), pp.C401-C428.\n",
    "\n",
    "\\[2\\] Homolya, M., Kirby, R.C. and Ham, D.A., 2017. Exposing and exploiting structure: optimal code generation for high-order finite element methods. arXiv preprint arXiv:1711.02473.\n"
   ]
  },
  {
   "cell_type": "code",
   "execution_count": null,
   "metadata": {},
   "outputs": [],
   "source": []
  },
  {
   "cell_type": "markdown",
   "metadata": {},
   "source": [
    "## Argument factorisation"
   ]
  },
  {
   "cell_type": "markdown",
   "metadata": {},
   "source": [
    "Apart from tensor contractions, TSFC also has optimisation passes that rewrites the expression based on associativity and distributivity, called argument factorisation. Argument factorisation takes advantage of the linearity of the differential form with respect to its arguments to create invariant loop-invariant expressions and reduces the FLOPs in the innermost loops."
   ]
  },
  {
   "cell_type": "markdown",
   "metadata": {},
   "source": [
    "Consider the simple expression $ a_{ij} = b_id_j + c_id_j $, the naive nested loop to compute $ a_{ij} $ is\n",
    "```\n",
    "for i\n",
    "  for j\n",
    "    a[i,j] = b[i]*d[j] + c[i]d[j]\n",
    "```\n",
    "However, we can rewrite the expression as $ a_{ij} = (b_i+c_i)d_j$, and the subexpression $b_i+c_i$ is invariant to index $j$, which can be hoisted into a temporary:\n",
    "```\n",
    "for i\n",
    "  t = b[i] + c[j]\n",
    "  for j\n",
    "    a[i,j] = t*d[j]\n",
    "```\n",
    "Usually, there are multiple ways to rewrite the expression, which might require expansion using the distributive rule. TSFC solves a Interger Linear Programming model to choose the transformation. More details and compilicated examples can be found at the paper \\[2\\]"
   ]
  },
  {
   "cell_type": "code",
   "execution_count": null,
   "metadata": {},
   "outputs": [],
   "source": []
  }
 ],
 "metadata": {
  "kernelspec": {
   "display_name": "Python 3",
   "language": "python",
   "name": "python3"
  },
  "language_info": {
   "codemirror_mode": {
    "name": "ipython",
    "version": 3
   },
   "file_extension": ".py",
   "mimetype": "text/x-python",
   "name": "python",
   "nbconvert_exporter": "python",
   "pygments_lexer": "ipython3",
   "version": "3.7.0"
  }
 },
 "nbformat": 4,
 "nbformat_minor": 1
}
