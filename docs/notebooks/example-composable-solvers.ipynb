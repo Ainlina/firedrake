{
 "cells": [
  {
   "cell_type": "markdown",
   "metadata": {},
   "source": [
    "TODO:\n",
    "\n",
    "- Some more maths for block solvers\n",
    "- drop braess-sarazin\n",
    "- explain patch more\n",
    "\n",
    "# Programming your solver\n",
    "\n",
    "In this notebook, we will look at some of the more advanced capabilities Firedrake has for configuring and developing preconditioners. In particular, we will show support for geometric multigrid, as well as user-defined preconditioners.\n",
    "\n",
    "As our prototypical example, we will consider the Stokes equations. Find $(u, p) \\in V \\times Q \\subset (H^1)^d \\times L^2$ such that\n",
    "\n",
    "$$\n",
    "\\begin{align}\n",
    "  \\nu\\int_\\Omega \\nabla u : \\nabla v\\,\\mathrm{d}x - \\int_\\Omega p\n",
    "  \\nabla \\cdot v\\,\\mathrm{d}x\n",
    "  &= \\int_\\Omega f \\cdot v\\,\\mathrm{d}x, \\\\\n",
    "  -\\int_\\Omega \\nabla \\cdot u q \\,\\mathrm{d}x&= 0.\n",
    "\\end{align}\n",
    "$$\n",
    "for all $(v, q) \\in V \\times Q$. Where $\\nu$ is the viscosity.\n",
    "\n",
    "We will solve a regularised lid-driven cavity problem, and thus choose $f = 0$ and the boundary conditions:\n",
    "$$\n",
    "\\begin{align}\n",
    "u &= \\begin{pmatrix}\\frac{x^2 (2 - x)^2 y^2}{4} \\\\ 0 \\end{pmatrix} & \\text{ on $\\Gamma_1 = \\{y = 1\\}$}\\\\\n",
    "u &= 0 & \\text{ otherwise}\\\\\n",
    "\\nabla p \\cdot n &= 0 & \\text{ on $\\Gamma = \\partial\\Omega$}\n",
    "\\end{align}\n",
    "$$"
   ]
  },
  {
   "cell_type": "code",
   "execution_count": null,
   "metadata": {},
   "outputs": [],
   "source": []
  },
  {
   "cell_type": "code",
   "execution_count": null,
   "metadata": {},
   "outputs": [],
   "source": [
    "from firedrake import *\n",
    "mesh = UnitSquareMesh(8, 8)\n",
    "\n",
    "# Regular refinement of the given mesh\n",
    "meshes = MeshHierarchy(mesh, refinement_levels=3)\n",
    "\n",
    "# Grab the finest mesh\n",
    "mesh = meshes[-1]\n",
    "V = VectorFunctionSpace(mesh, \"CG\", 2)\n",
    "Q = FunctionSpace(mesh, \"CG\", 1)\n",
    "W = V*Q"
   ]
  },
  {
   "cell_type": "markdown",
   "metadata": {},
   "source": [
    "We set up the problem in residual form (using `TestFunction`s but no `TrialFunction`s)"
   ]
  },
  {
   "cell_type": "code",
   "execution_count": null,
   "metadata": {},
   "outputs": [],
   "source": [
    "v, q = TestFunctions(W)\n",
    "w = Function(W)\n",
    "u, p = split(w)\n",
    "\n",
    "nu = Constant(0.0001)\n",
    "F = nu*inner(grad(u), grad(v))*dx - p*div(v)*dx - div(u)*q*dx\n",
    "\n",
    "## Split here\n",
    "x, y = SpatialCoordinate(mesh)\n",
    "forcing = as_vector([0.25 * x**2 * (2-x)**2 *y**2, 0])\n",
    "\n",
    "bcs = [DirichletBC(W.sub(0), forcing, 4),\n",
    "       DirichletBC(W.sub(0), zero(mesh.geometric_dimension()), (1, 2, 3))]\n",
    "\n",
    "# We're going to tell the solver to remove the constant pressure null mode\n",
    "nullspace = MixedVectorSpaceBasis(W, [W.sub(0), VectorSpaceBasis(constant=True)])"
   ]
  },
  {
   "cell_type": "markdown",
   "metadata": {},
   "source": [
    "We'll be exploring lots of different solver options, we'll write a function that builds a solver object"
   ]
  },
  {
   "cell_type": "code",
   "execution_count": null,
   "metadata": {},
   "outputs": [],
   "source": [
    "def create_solver(solver_parameters, *, pmat=None, appctx=None):\n",
    "    p = {}\n",
    "    if solver_parameters is not None:\n",
    "        p.update(solver_parameters)\n",
    "    # Default to linear SNES\n",
    "    p.setdefault(\"snes_type\", \"ksponly\")\n",
    "    p.setdefault(\"ksp_rtol\", 1e-7)\n",
    "    problem = NonlinearVariationalProblem(F, w, bcs=bcs, Jp=pmat)\n",
    "    solver = NonlinearVariationalSolver(problem, nullspace=nullspace, options_prefix=\"\", \n",
    "                                        solver_parameters=p, appctx=appctx)\n",
    "    return solver"
   ]
  },
  {
   "cell_type": "markdown",
   "metadata": {},
   "source": [
    "Now let's go ahead and solve the problem using a direct solver"
   ]
  },
  {
   "cell_type": "code",
   "execution_count": null,
   "metadata": {},
   "outputs": [],
   "source": [
    "solver_parameters = {\n",
    "    # Build an AIJ matrix\n",
    "    \"mat_type\": \"aij\",\n",
    "    \"ksp_type\": \"preonly\",\n",
    "    # Use MUMPS since it handles the null space\n",
    "    \"pc_type\": \"lu\",\n",
    "    \"pc_factor_mat_solver_type\": \"mumps\"\n",
    "}"
   ]
  },
  {
   "cell_type": "code",
   "execution_count": null,
   "metadata": {},
   "outputs": [],
   "source": [
    "def convergence(snes):\n",
    "    from firedrake.solving_utils import KSPReasons, SNESReasons\n",
    "    print(\"\"\"\n",
    "SNES iterations: {snes}; SNES converged reason: {snesreason}\n",
    "   KSP iterations: {ksp}; KSP converged reason: {kspreason}\"\"\".format(snes=snes.getIterationNumber(),\n",
    "                                                                      snesreason=SNESReasons[snes.getConvergedReason()],\n",
    "                                                                      ksp=snes.ksp.getIterationNumber(),\n",
    "                                                                      kspreason=KSPReasons[snes.ksp.getConvergedReason()]))"
   ]
  },
  {
   "cell_type": "code",
   "execution_count": null,
   "metadata": {},
   "outputs": [],
   "source": [
    "w.assign(0)\n",
    "solver = create_solver(solver_parameters)\n",
    "solver.solve()\n",
    "convergence(solver.snes)"
   ]
  },
  {
   "cell_type": "markdown",
   "metadata": {},
   "source": [
    "We can now have a look at the solution, using some simple builtin plotting that utilises matplotlib. For any more complicated visualisation, save the data to a VTU file and inspect it using something like Paraview or Visit."
   ]
  },
  {
   "cell_type": "code",
   "execution_count": null,
   "metadata": {},
   "outputs": [],
   "source": [
    "%matplotlib notebook\n",
    "u_h, p_h = w.split()\n",
    "plot(u_h);"
   ]
  },
  {
   "cell_type": "markdown",
   "metadata": {},
   "source": [
    "## Configuring a better preconditioner\n",
    "\n",
    "For this small problem, we can (and probably should) use a direct factorisation method. But what if the problem is too big? Then we need an iterative method, and an appropriate preconditioner.\n",
    "\n",
    "Let's try everyone's favourite, ILU(0)."
   ]
  },
  {
   "cell_type": "code",
   "execution_count": null,
   "metadata": {},
   "outputs": [],
   "source": [
    "solver_parameters = {\n",
    "    \"mat_type\": \"aij\",\n",
    "    \"ksp_type\": \"gmres\",\n",
    "    \"ksp_gmres_modifiedgramschmidt\": None,\n",
    "    \"ksp_max_it\": 2000,\n",
    "    \"ksp_monitor\": None,\n",
    "    \"pc_type\": \"ilu\"\n",
    "}"
   ]
  },
  {
   "cell_type": "code",
   "execution_count": null,
   "metadata": {},
   "outputs": [],
   "source": [
    "w.assign(0)\n",
    "solver = create_solver(solver_parameters)\n",
    "solver.solve()\n",
    "convergence(solver.snes)"
   ]
  },
  {
   "cell_type": "markdown",
   "metadata": {},
   "source": [
    "This is, unsurprisingly, bad. Fortunately, better options are available."
   ]
  },
  {
   "cell_type": "markdown",
   "metadata": {},
   "source": [
    "### Block preconditioning\n",
    "\n",
    "Firedrake hooks up all the necessary machinery to access PETSc's `PCFIELDSPLIT` preconditioner. We just have to pass appropriate options:\n",
    "\n",
    "Add block factorisation maths here."
   ]
  },
  {
   "cell_type": "code",
   "execution_count": null,
   "metadata": {},
   "outputs": [],
   "source": [
    "fieldsplit_parameters = {\n",
    "    \"mat_type\": \"nest\",\n",
    "    \"ksp_type\": \"fgmres\",\n",
    "    \"pc_type\": \"fieldsplit\",\n",
    "    \"pc_fieldsplit_type\": \"schur\",\n",
    "    \"fieldsplit_0\": {\n",
    "        \"ksp_type\": \"preonly\",\n",
    "        \"pc_type\": \"lu\",\n",
    "    },\n",
    "    \"fieldsplit_1\": {\n",
    "        \"ksp_type\": \"cg\",\n",
    "        \"pc_type\": \"none\",\n",
    "    }\n",
    "}"
   ]
  },
  {
   "cell_type": "code",
   "execution_count": null,
   "metadata": {},
   "outputs": [],
   "source": [
    "w.assign(0)\n",
    "solver = create_solver(fieldsplit_parameters)\n",
    "solver.solve()\n",
    "convergence(solver.snes)"
   ]
  },
  {
   "cell_type": "markdown",
   "metadata": {},
   "source": [
    "This looks OK, but we want to provide a preconditioning matrix for the Schur complement. For the Stokes equations, Silvester and Wathen (1994) show that $S \\approx \\nu^{-1} Q$ is a good approximation, where $Q$ is the pressure mass matrix.\n",
    "\n",
    "How do we get this matrix into the preconditioner?\n",
    "\n",
    "XXX: Explain we provide Amat for _full_ problem and Pmat for _full_ problem: and then we're only going to use a bit of pmat.\n",
    "\n",
    "Mimicing PETSc, we can supply a second operator to the solver, which the KSP will use to build the preconditioning matrix. This is easy to create, since it's just another variational form, and can be obtained by replacing the solution \n",
    "\n",
    "XXX: Use derivative."
   ]
  },
  {
   "cell_type": "code",
   "execution_count": null,
   "metadata": {},
   "outputs": [],
   "source": [
    "w_t = TrialFunction(W)\n",
    "_, p_t = split(w_t)\n",
    "\n",
    "pmat = lhs(derivative(F, w, w_t)) + 1/nu * p_t * q*dx\n",
    "#pmat = lhs(replace(F, {w: w_t})) + 1/nu * p_t * q*dx"
   ]
  },
  {
   "cell_type": "markdown",
   "metadata": {},
   "source": [
    "We can now pass this pmat form to `create_solver` and can configure an appropriate preconditioner."
   ]
  },
  {
   "cell_type": "code",
   "execution_count": null,
   "metadata": {},
   "outputs": [],
   "source": [
    "pmat_parameters = {\n",
    "    \"mat_type\": \"nest\", # We only need the blocks\n",
    "    \"snes_type\": \"ksponly\",\n",
    "    \"ksp_view\": True,\n",
    "    \"pc_type\": \"fieldsplit\",\n",
    "    \"pc_fieldsplit_type\": \"schur\",\n",
    "    \"fieldsplit_0\": {\n",
    "        \"ksp_type\": \"preonly\",\n",
    "        \"pc_type\": \"lu\",\n",
    "    },\n",
    "    \"fieldsplit_1\": {\n",
    "        \"ksp_type\": \"preonly\",\n",
    "        \"pc_type\": \"lu\",\n",
    "    }\n",
    "}"
   ]
  },
  {
   "cell_type": "code",
   "execution_count": null,
   "metadata": {},
   "outputs": [],
   "source": [
    "w.assign(0)\n",
    "solver = create_solver(pmat_parameters, pmat=pmat)\n",
    "solver.solve()\n",
    "convergence(solver.snes)"
   ]
  },
  {
   "cell_type": "markdown",
   "metadata": {},
   "source": [
    "This works pretty well, taking only 18 outer iterations. We can also replace the inner solvers with approximate versions. We will do this momentarily.\n",
    "\n",
    "### Providing auxiliary operators\n",
    "One thing that is somewhat inconvenient is that we have to build a whole new operator just to get the pressure mass matrix in to the inner preconditioner. The approach adopted in Firedrake to avoid this is to piggyback on PETSc's (and petsc4py's) support for user-defined preconditioner objects. We can define a preconditioner as a Python class, and as long as it provides certain methods, it can be used as a preconditioner by PETSc. \n",
    "\n",
    "TOO MUCH TEXT"
   ]
  },
  {
   "cell_type": "markdown",
   "metadata": {},
   "source": [
    "To simplify the problem of which methods you need to remember to implement, Firedrake offers some builtin Python preconditioners, along with an abstract base class to inherit from `PCBase`. One thing that is slightly tricky is figuring out how to get all the necessary information to construct things. For our use case, Firedrake offers a further abstraction.\n",
    "\n",
    "Since needing to assemble an auxiliary operator of some kind is so common, we can inherit from the builtin `AuxiliaryOperatorPC` and implement the `form` method. This receives test and trial functions on the correct space and should return a form and any boundary conditions (or `None`). When it is constructed and setup, the specified operator is assembled and supplied to an algebraic preconditioner. Let's have a go:"
   ]
  },
  {
   "cell_type": "code",
   "execution_count": null,
   "metadata": {},
   "outputs": [],
   "source": [
    "class MassMatrix(AuxiliaryOperatorPC):\n",
    "    # The default prefix is \"aux_\"\n",
    "    _prefix = \"mass_\"\n",
    "    def form(self, pc, test, trial):\n",
    "        # Grab the definition of nu from the user application context (a dict)\n",
    "        nu = self.get_appctx(pc)[\"nu\"]\n",
    "        return (1/nu * test*trial*dx, None)"
   ]
  },
  {
   "cell_type": "code",
   "execution_count": null,
   "metadata": {},
   "outputs": [],
   "source": [
    "mass_parameters = {\n",
    "    \"mat_type\": \"nest\", # We only need the blocks\n",
    "    \"ksp_view\": None,\n",
    "    \"pc_type\": \"fieldsplit\",\n",
    "    \"pc_fieldsplit_type\": \"schur\",\n",
    "    \"fieldsplit_0\": {\n",
    "        \"ksp_type\": \"preonly\",\n",
    "        \"pc_type\": \"lu\",\n",
    "    },\n",
    "    \"fieldsplit_1\": {\n",
    "        \"ksp_type\": \"preonly\",\n",
    "        \"pc_type\": \"python\",\n",
    "        \"pc_python_type\": \"__main__.MassMatrix\",\n",
    "        \"mass_pc_type\": \"lu\",\n",
    "    }\n",
    "}"
   ]
  },
  {
   "cell_type": "code",
   "execution_count": null,
   "metadata": {},
   "outputs": [],
   "source": [
    "appctx = {\"nu\": nu} # arbitrary user data that is available inside the user PC object\n",
    "w.assign(0)\n",
    "solver = create_solver(mass_parameters, appctx=appctx)\n",
    "solver.solve()\n",
    "convergence(solver.snes)"
   ]
  },
  {
   "cell_type": "markdown",
   "metadata": {},
   "source": [
    "## Multigrid preconditioners and smoothers\n",
    "\n",
    "In the same way that Firedrake hooks up solvers such that `PCFIELDSPLIT` is enabled, if a problem was defined on a mesh from a `MeshHierarchy`, `PCMG` and `SNESFAS` are also available. One option is to use the block preconditioning and replace the LU for the elliptic (1, 1) block with MG"
   ]
  },
  {
   "cell_type": "code",
   "execution_count": null,
   "metadata": {},
   "outputs": [],
   "source": [
    "fieldsplit_mg_parameters = {\n",
    "    \"mat_type\": \"nest\",\n",
    "    \"ksp_view\": None,\n",
    "    \"pc_type\": \"fieldsplit\",\n",
    "    \"pc_fieldsplit_type\": \"schur\",\n",
    "    \"fieldsplit_0\": {\n",
    "        \"ksp_type\": \"preonly\",\n",
    "        \"pc_type\": \"mg\",\n",
    "        \"mg_levels\": {\n",
    "            \"ksp_type\": \"chebyshev\",\n",
    "            \"ksp_max_it\": 2,\n",
    "        }\n",
    "    },\n",
    "    \"fieldsplit_1\": {\n",
    "        \"ksp_type\": \"preonly\",\n",
    "        \"pc_type\": \"python\",\n",
    "        \"pc_python_type\": \"__main__.MassMatrix\",\n",
    "        \"mass_pc_type\": \"lu\",\n",
    "    }\n",
    "}"
   ]
  },
  {
   "cell_type": "code",
   "execution_count": null,
   "metadata": {},
   "outputs": [],
   "source": [
    "appctx = {\"nu\": nu} # arbitrary user data that is available inside the user PC object\n",
    "w.assign(0)\n",
    "solver = create_solver(fieldsplit_mg_parameters, appctx=appctx)\n",
    "solver.solve()\n",
    "convergence(solver.snes)"
   ]
  },
  {
   "cell_type": "markdown",
   "metadata": {},
   "source": [
    "We can also do monolithic, or \"all at once\" multigrid. For example, Braess-Sarazin smoothing, using global `PCFIELDSPLIT` \"smoothers\" on each level:"
   ]
  },
  {
   "cell_type": "code",
   "execution_count": null,
   "metadata": {},
   "outputs": [],
   "source": [
    "braess_sarazin_parameters = {\n",
    "    \"mat_type\": \"aij\",\n",
    "    \"ksp_type\": \"fgmres\",\n",
    "    \"ksp_view\": None,\n",
    "    \"ksp_monitor\": None,\n",
    "    \"pc_type\": \"mg\",\n",
    "    \"mg_levels\": {\n",
    "        \"ksp_type\": \"gmres\",\n",
    "        \"ksp_max_it\": 2,\n",
    "        \"pc_type\": \"fieldsplit\",\n",
    "        \"fieldsplit_0\": {\n",
    "            \"ksp_type\": \"preonly\",\n",
    "            \"pc_type\": \"ilu\",\n",
    "        },\n",
    "        \"fieldsplit_1\": {\n",
    "            \"ksp_type\": \"preonly\",\n",
    "            \"pc_type\": \"python\",\n",
    "            # Notice how we can easily put the right mass matrix in\n",
    "            # here.\n",
    "            \"pc_python_type\": \"__main__.MassMatrix\",\n",
    "            \"mass_pc_type\": \"ilu\",\n",
    "        }\n",
    "    },\n",
    "    \"mg_coarse\": {\n",
    "        \"ksp_type\": \"preonly\",\n",
    "        \"pc_type\": \"lu\",\n",
    "        \"pc_factor_mat_solver_type\": \"mumps\",\n",
    "    }\n",
    "}"
   ]
  },
  {
   "cell_type": "code",
   "execution_count": null,
   "metadata": {},
   "outputs": [],
   "source": [
    "appctx = {\"nu\": nu} # arbitrary user data that is available inside the user PC object\n",
    "w.assign(0)\n",
    "solver = create_solver(braess_sarazin_parameters, appctx=appctx)\n",
    "solver.solve()\n",
    "convergence(solver.snes)"
   ]
  },
  {
   "cell_type": "markdown",
   "metadata": {},
   "source": [
    "Another option is to do Vanka smoothing, which is supported by PETSc's (new) `PCPATCH` preconditioner. This is supported in Firedrake too with a builtin `PatchPC` object which sets everything up."
   ]
  },
  {
   "cell_type": "code",
   "execution_count": null,
   "metadata": {},
   "outputs": [],
   "source": [
    "vanka_parameters = {\n",
    "    \"mat_type\": \"matfree\", # We only need the action\n",
    "    \"ksp_type\": \"fgmres\",\n",
    "    \"ksp_view\": None,\n",
    "    \"ksp_monitor\": None,\n",
    "    \"pc_type\": \"mg\",\n",
    "    \"mg_levels\": {\n",
    "        \"ksp_type\": \"chebyshev\",\n",
    "        \"ksp_convergence_test\": \"skip\",\n",
    "        \"ksp_max_it\": 2,\n",
    "        \"pc_type\": \"python\",\n",
    "        \"pc_python_type\": \"firedrake.PatchPC\",\n",
    "        \"patch\": {\n",
    "            \"pc_patch_save_operators\": 1,\n",
    "            \"pc_patch_partition_of_unity\": False,\n",
    "            \"pc_patch_construct_dim\": 0,\n",
    "            # Topological decomposition\n",
    "            \"pc_patch_construct_type\": \"vanka\",\n",
    "            # Pressure space is constraint space\n",
    "            \"pc_patch_exclude_subspaces\": 1,\n",
    "            # Configure the solver on each patch\n",
    "            \"pc_patch_sub\": {\n",
    "                \"mat_type\": \"dense\",\n",
    "                \"ksp_type\": \"preonly\",\n",
    "                \"pc_type\": \"lu\",\n",
    "                \"pc_factor_shift_type\": \"nonzero\",\n",
    "            }\n",
    "        }\n",
    "    },\n",
    "    \"mg_coarse\": {\n",
    "        \"ksp_type\": \"preonly\",\n",
    "        \"pc_type\": \"python\",\n",
    "        \"pc_python_type\": \"firedrake.AssembledPC\",\n",
    "        \"assembled\": {\n",
    "            \"pc_type\": \"lu\",\n",
    "            \"pc_factor_mat_solver_type\": \"mumps\",\n",
    "        }\n",
    "    }\n",
    "}"
   ]
  },
  {
   "cell_type": "code",
   "execution_count": null,
   "metadata": {},
   "outputs": [],
   "source": [
    "w.assign(0)\n",
    "solver = create_solver(vanka_parameters)\n",
    "solver.solve()\n",
    "convergence(solver.snes)"
   ]
  },
  {
   "cell_type": "code",
   "execution_count": null,
   "metadata": {},
   "outputs": [],
   "source": []
  }
 ],
 "metadata": {
  "kernelspec": {
   "display_name": "Python 3",
   "language": "python",
   "name": "python3"
  },
  "language_info": {
   "codemirror_mode": {
    "name": "ipython",
    "version": 3
   },
   "file_extension": ".py",
   "mimetype": "text/x-python",
   "name": "python",
   "nbconvert_exporter": "python",
   "pygments_lexer": "ipython3",
   "version": "3.7.0"
  }
 },
 "nbformat": 4,
 "nbformat_minor": 2
}
