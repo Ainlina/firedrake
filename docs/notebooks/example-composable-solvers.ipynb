{
 "cells": [
  {
   "cell_type": "markdown",
   "metadata": {},
   "source": [
    "# Programming your solver\n",
    "\n",
    "In this notebook, we will look at some of the more advanced capabilities Firedrake has for configuring and developing preconditioners.\n",
    "\n",
    "As our prototypical example, we will consider the Stokes equations. Find $(u, p) \\in V \\times Q \\subset (H^1)^d \\times L^2$ such that\n",
    "\n",
    "$$\n",
    "\\begin{align}\n",
    "  \\nu\\int_\\Omega \\nabla u : \\nabla v\\,\\mathrm{d}x - \\int_\\Omega p\n",
    "  \\nabla \\cdot v\\,\\mathrm{d}x\n",
    "  &= \\int_\\Omega f \\cdot v\\,\\mathrm{d}x, \\\\\n",
    "  -\\int_\\Omega \\nabla \\cdot u q \\,\\mathrm{d}x&= 0.\n",
    "\\end{align}\n",
    "$$\n",
    "for all $(v, q) \\in V \\times Q$. Where $\\nu$ is the viscosity, and we have not yet introduced boundary conditions.\n",
    "\n",
    "We're going to need a domain to solve this problem on, along with appropriate finite elements for the velocity and pressure spaces. Here we'll use the Taylor-Hood pair, although other options are available."
   ]
  },
  {
   "cell_type": "markdown",
   "metadata": {},
   "source": [
    "We start by importing functionality from the Firedrake interface, defining a mesh, and building the function spaces on it."
   ]
  },
  {
   "cell_type": "code",
   "execution_count": 1,
   "metadata": {},
   "outputs": [],
   "source": [
    "from firedrake import *\n",
    "\n",
    "mesh = UnitSquareMesh(64, 64)\n",
    "\n",
    "V = VectorFunctionSpace(mesh, \"CG\", 2)\n",
    "Q = FunctionSpace(mesh, \"CG\", 1)\n",
    "W = V*Q"
   ]
  },
  {
   "cell_type": "markdown",
   "metadata": {},
   "source": [
    "## The variational problem\n",
    "\n",
    "We will choose a viscosity that does not depend on the solution, and hence solve a linear set of equations. We will nonetheless write the problem in residual form (such that nonlinear solvers are straightforwardly available). We therefore need a `Function` to hold the discrete solution, along with some test functions to build a symbolic representation of the problem.\n",
    "\n",
    "We also need to choose some boundary conditions, such that the problem is well-posed. In this example, we'll solve a regularised lid-driven cavity problem. For which the boundary conditions are:\n",
    "\n",
    "$$\n",
    "\\begin{align}\n",
    "u &= \\begin{pmatrix}\\frac{x^2 (2 - x)^2 y^2}{4} \\\\ 0 \\end{pmatrix} & \\text{ on $\\Gamma_1 = \\{y = 1\\}$}\\\\\n",
    "u &= 0 & \\text{ otherwise}\\\\\n",
    "\\nabla p \\cdot n &= 0 & \\text{ on $\\Gamma = \\partial\\Omega$}\n",
    "\\end{align}\n",
    "$$"
   ]
  },
  {
   "cell_type": "code",
   "execution_count": 2,
   "metadata": {},
   "outputs": [],
   "source": [
    "v, q = TestFunctions(W)\n",
    "\n",
    "w = Function(W)\n",
    "u, p = split(w)\n",
    "\n",
    "nu = Constant(0.0001)\n",
    "\n",
    "F = nu*inner(grad(u), grad(v))*dx - p*div(v)*dx - div(u)*q*dx\n",
    "\n",
    "x, y = SpatialCoordinate(mesh)\n",
    "forcing = as_vector([0.25 * x**2 * (2-x)**2 *y**2, 0])\n",
    "\n",
    "bcs = [DirichletBC(W.sub(0), forcing, 4),\n",
    "       DirichletBC(W.sub(0), zero(mesh.geometric_dimension()), (1, 2, 3))]"
   ]
  },
  {
   "cell_type": "markdown",
   "metadata": {},
   "source": [
    "The appropriate parts of the boundary on which to apply Dirichlet conditions are selected with mesh markers. For builtin meshes, you can determine which markers are available from the constructor documentation. For external meshes, Firedrake picks up the markers in the mesh file via PETSc's DMPlex readers."
   ]
  },
  {
   "cell_type": "code",
   "execution_count": null,
   "metadata": {},
   "outputs": [],
   "source": [
    "??UnitSquareMesh"
   ]
  },
  {
   "cell_type": "markdown",
   "metadata": {},
   "source": [
    "Finally, since we apply no Dirichlet condition on the pressure, we must construct and inform the solver that the space of constant pressures is a null mode of the operator, and should thus be projected out. We do this by constructing a basis object that holds the null space:"
   ]
  },
  {
   "cell_type": "code",
   "execution_count": 3,
   "metadata": {},
   "outputs": [],
   "source": [
    "nullspace = MixedVectorSpaceBasis(W, [W.sub(0), VectorSpaceBasis(constant=True)])"
   ]
  },
  {
   "cell_type": "markdown",
   "metadata": {},
   "source": [
    "## Configuring the solver\n",
    "\n",
    "Now that the problem is set up we can try and solve it. To configure the solver, we must program it using PETSc's options system. First, a simple example, then some discussion on what it all means."
   ]
  },
  {
   "cell_type": "code",
   "execution_count": 4,
   "metadata": {},
   "outputs": [],
   "source": [
    "solver_parameters = {\n",
    "    # Build an AIJ matrix (we will see others later)\n",
    "    \"mat_type\": \"aij\",\n",
    "    # Since the problem is linear, use a \"linear only\" nonlinear solver\n",
    "    \"snes_type\": \"ksponly\",\n",
    "    # GMRES for the linear solver\n",
    "    \"ksp_type\": \"gmres\",\n",
    "    # Turn on some monitors\n",
    "    \"ksp_monitor_true_residual\": True,\n",
    "    \"ksp_max_it\": 1500,\n",
    "    \"ksp_converged_reason\": True,\n",
    "    \"ksp_rtol\": 1e-7,\n",
    "    # Pick a (not very strong) preconditioner\n",
    "    \"pc_type\": \"ilu\",\n",
    "    \n",
    "}"
   ]
  },
  {
   "cell_type": "code",
   "execution_count": 5,
   "metadata": {},
   "outputs": [],
   "source": [
    "w.assign(0)\n",
    "solve(F == 0, w, bcs=bcs, nullspace=nullspace, solver_parameters=solver_parameters)"
   ]
  },
  {
   "cell_type": "markdown",
   "metadata": {},
   "source": [
    "We can now have a look at the solution, using some simple builtin plotting that utilises matplotlib. For any more complicated visualisation, save the data to a VTU file and inspect it using something like Paraview or Visit."
   ]
  },
  {
   "cell_type": "code",
   "execution_count": null,
   "metadata": {},
   "outputs": [],
   "source": [
    "%matplotlib notebook\n",
    "u_h, p_h = w.split()\n",
    "plot(u_h);"
   ]
  },
  {
   "cell_type": "markdown",
   "metadata": {},
   "source": [
    "## Configuring a better preconditioner\n",
    "\n",
    "If we look in the stdout log (FIXME: does this work on Azure), we see that for this tiny problem, the linear solver took over 900 iterations to converge. We'd like to do rather better than this. Fortunately, there a number of known-good approaches to preconditioning Stokes' equation. We will show how to access some of them in Firedrake.\n",
    "\n",
    "### Programming with options\n",
    "\n",
    "Firedrake relies on PETSc to do the heavy lifting for algebraic solves. If you don't provide any parameters, we just inherit the defaults from PETSc. Of course, we can change this, and probably want to so that we pick an appropriate solver for our problem. We already saw an example of this above, setting tolerances and the like. If you're familiar with PETSc options, this will already make sense, if not, a little explanation is in order. So we'll take a brief detour to discuss the \"programming language\" PETSc exposes through its options database.\n",
    "\n",
    "PETSc objects (such as solvers) are configurable at runtime, and the primary mechanism for doing so is through PETSc's _options database_. A PETSc object examines the database, and configures itself, when `setFromOptions` is called on it. For the solvers in Firedrake, this is arranged to happen when you call `solve`. The \"programming language\" for the options consists of two operations:\n",
    "\n",
    "1. Value assignment -foo_type bar (equivalently in dict syntax `{\"foo_type\": \"bar\"}`)\n",
    "2. String concatenation\n",
    "\n",
    "The former says \"set the `foo_type` key in the database to value `bar`\", the latter is used, in combination with object _prefixes_ to configure multiple objects _of the same type_ in different ways.\n",
    "\n",
    "Configuring the solver is done by providing _options_ to the solver in the form of a dictionary of solver parameters. These are passed, essentially unmodified, to PETSc which uses them to set up the solver.\n",
    "\n",
    "## A block preconditioner for Stokes\n",
    "\n",
    "Rather than using a monolithic ILU preconditioner, which does not perform well, we will now consider a block preconditioner using the approach of Silvester & Wathen (1994). This is accessed using PETSc's `fieldsplit` PC. This block approach exploits that the system we are trying to solve is conceptually a $2 \\times 2$ block matrix:\n",
    "$$\n",
    "\\mathcal{A} := \\begin{bmatrix} A & B \\\\ C & 0 \\end{bmatrix}\n",
    "$$\n",
    "which admits a factorisation\n",
    "$$\n",
    "   \\begin{bmatrix} I & 0 \\\\ C A^{-1} & I\\end{bmatrix}\n",
    "   \\begin{bmatrix}A & 0 \\\\ 0 & S\\end{bmatrix}\n",
    "   \\begin{bmatrix} I & A^{-1} B \\\\ 0 & I\\end{bmatrix},\n",
    "$$\n",
    "where $S := -C A^{-1} B$ is the _Schur complement_. The inverse is therefore\n",
    "$$\n",
    "   \\mathcal{A}^{-1} =\\begin{bmatrix} I & -A^{-1}B \\\\ 0 & I \\end{bmatrix}\n",
    "   \\begin{bmatrix} A^{-1} & 0 \\\\ 0 & S^{-1}\\end{bmatrix}\n",
    "   \\begin{bmatrix} I & 0 \\\\ -CA^{-1} & I\\end{bmatrix}.\n",
    "$$\n",
    "\n",
    "Let's see how to set this up with solver parameters. We'll start by just setting up the block factorisation and using exact solvers for the inner blocks where possible."
   ]
  },
  {
   "cell_type": "code",
   "execution_count": 6,
   "metadata": {},
   "outputs": [],
   "source": [
    "solver_parameters = {\n",
    "    \"mat_type\": \"nest\", # We only need the blocks\n",
    "    \"snes_type\": \"ksponly\",\n",
    "    \"ksp_type\": \"gmres\",\n",
    "    \"ksp_rtol\": 1e-7,\n",
    "    \"ksp_monitor_true_residual\": True,\n",
    "    \"ksp_max_it\": 1500,\n",
    "    \"ksp_converged_reason\": True,\n",
    "    \"pc_type\": \"fieldsplit\",\n",
    "    \"pc_fieldsplit_type\": \"schur\",\n",
    "    \"fieldsplit_0\": {\n",
    "        \"ksp_type\": \"preonly\",\n",
    "        \"pc_type\": \"lu\",\n",
    "    },\n",
    "    \"fieldsplit_1\": {\n",
    "        \"ksp_type\": \"richardson\",\n",
    "        \"ksp_rtol\": 1e-8,\n",
    "        \"ksp_richardson_self_scale\": True,\n",
    "        \"ksp_converged_reason\": True,\n",
    "        \"pc_type\": \"none\",\n",
    "    }\n",
    "}"
   ]
  },
  {
   "cell_type": "code",
   "execution_count": 7,
   "metadata": {},
   "outputs": [],
   "source": [
    "w.assign(0)\n",
    "solve(F == 0, w, bcs=bcs, nullspace=nullspace, solver_parameters=solver_parameters)"
   ]
  },
  {
   "cell_type": "markdown",
   "metadata": {},
   "source": [
    "This has good outer convergence, taking just a single GMRES iteration. However, it's rather slow. The reason for this is that the Schur complement solver `fieldsplit_1` is somewhat slow to converge since we don't have a preconditioner at all. The game in speeding this solve up is to find a fast way of approximating $S^{-1}$. Either by finding a good sparse approximation to $S$ and inverting that, or else by finding a fast way of applying $S^{-1}$.\n",
    "\n",
    "For the Stokes problem, Silvester & Wathen (1994) show that $S \\approx \\nu^{-1} Q$ is a good approximation, where $Q$ is the pressure mass matrix. This is good news, but we need to find a way of getting that matrix into the preconditioner.\n",
    "\n",
    "### A separate `pmat`\n",
    "\n",
    "One approach is that PETSc's KSP objects accept to operators, `A` which defines the operator to invert, and `P`, which is used to build the preconditioner. Firedrake supports this method of building problems, so we can just provide a separate variational form describing the preconditioning matrix `P`. To do that, we will additionally need some symbolic trial functions."
   ]
  },
  {
   "cell_type": "code",
   "execution_count": 8,
   "metadata": {},
   "outputs": [],
   "source": [
    "u_t, p_t = TrialFunctions(W)\n",
    "\n",
    "# FIXME: want to do P = lhs(replace(F, {u: u_t, p: p_t})) + p_t * q*dx, but can't replace non-terminals yet\n",
    "P = nu*inner(grad(u_t), grad(v))*dx - p_t*div(v)*dx - div(u_t)*q*dx + 1/nu * p_t * q*dx"
   ]
  },
  {
   "cell_type": "markdown",
   "metadata": {},
   "source": [
    "We now solve the same problem, but pass an extra `Jp` argument to the solve call, which is a bilinear form used to assemble the preconditioning matrix."
   ]
  },
  {
   "cell_type": "code",
   "execution_count": 9,
   "metadata": {},
   "outputs": [],
   "source": [
    "solver_parameters = {\n",
    "    \"mat_type\": \"nest\", # We only need the blocks\n",
    "    \"snes_type\": \"ksponly\",\n",
    "    \"ksp_type\": \"gmres\",\n",
    "    \"ksp_rtol\": 1e-7,\n",
    "    \"ksp_monitor_true_residual\": True,\n",
    "    \"ksp_max_it\": 1500,\n",
    "    \"ksp_converged_reason\": True,\n",
    "    \"pc_type\": \"fieldsplit\",\n",
    "    \"pc_fieldsplit_type\": \"schur\",\n",
    "    \"fieldsplit_0\": {\n",
    "        \"ksp_type\": \"preonly\",\n",
    "        \"pc_type\": \"lu\",\n",
    "    },\n",
    "    \"fieldsplit_1\": {\n",
    "        \"ksp_type\": \"preonly\",\n",
    "        \"pc_type\": \"lu\",\n",
    "    }\n",
    "}"
   ]
  },
  {
   "cell_type": "code",
   "execution_count": 10,
   "metadata": {},
   "outputs": [],
   "source": [
    "w.assign(0)\n",
    "solve(F == 0, w, bcs=bcs, nullspace=nullspace, Jp=P, solver_parameters=solver_parameters)"
   ]
  },
  {
   "cell_type": "markdown",
   "metadata": {},
   "source": [
    "This works pretty well, taking only 18 outer iterations. One could also replace the inner solvers with approximate versions. We will do this momentarily when solving larger problems.\n",
    "\n",
    "### Providing auxiliary operators\n",
    "One thing that is somewhat inconvenient is that we have to build a whole new operator just to get the pressure mass matrix in to the inner preconditioner. The approach adopted in Firedrake to avoid this is to piggyback on PETSc's (and petsc4py's) support for user-defined preconditioner objects. We can define a preconditioner as a Python class, and as long as it provides certain methods, it can be used as a preconditioner by PETSc. \n",
    "\n",
    "As a simple example, let us write our own version of the `none` PC, which applies the identity as the preconditioner."
   ]
  },
  {
   "cell_type": "code",
   "execution_count": 11,
   "metadata": {},
   "outputs": [],
   "source": [
    "class NonePC(object):\n",
    "    def apply(self, pc, x, y):\n",
    "        x.copy(y)\n",
    "    def applyTranspose(self, pc, x, y):\n",
    "        x.copy(y)"
   ]
  },
  {
   "cell_type": "markdown",
   "metadata": {},
   "source": [
    "Let's use it in place of the builtin `none` we used before, we have to provide the full name of the class used to construct the PC as an absolute path to an object in an importable Python module. For preconditioners we define in this notebook, the relevant module is the `__main__` one."
   ]
  },
  {
   "cell_type": "code",
   "execution_count": 14,
   "metadata": {},
   "outputs": [],
   "source": [
    "solver_parameters = {\n",
    "    \"mat_type\": \"nest\", # We only need the blocks\n",
    "    \"snes_type\": \"ksponly\",\n",
    "    \"ksp_type\": \"gmres\",\n",
    "    \"ksp_rtol\": 1e-7,\n",
    "    \"ksp_monitor_true_residual\": True,\n",
    "    \"ksp_max_it\": 1500,\n",
    "    \"ksp_converged_reason\": True,\n",
    "    \"pc_type\": \"fieldsplit\",\n",
    "    \"pc_fieldsplit_type\": \"schur\",\n",
    "    \"fieldsplit_0\": {\n",
    "        \"ksp_type\": \"preonly\",\n",
    "        \"pc_type\": \"lu\",\n",
    "    },\n",
    "    \"fieldsplit_1\": {\n",
    "        \"ksp_type\": \"richardson\",\n",
    "        \"ksp_rtol\": 1e-8,\n",
    "        \"ksp_richardson_self_scale\": True,\n",
    "        \"ksp_converged_reason\": True,\n",
    "        \"pc_type\": \"python\",\n",
    "        \"pc_python_type\": \"__main__.NonePC\",\n",
    "    }\n",
    "}"
   ]
  },
  {
   "cell_type": "code",
   "execution_count": 15,
   "metadata": {},
   "outputs": [],
   "source": [
    "w.assign(0)\n",
    "solve(F == 0, w, bcs=bcs, nullspace=nullspace, solver_parameters=solver_parameters)"
   ]
  },
  {
   "cell_type": "markdown",
   "metadata": {},
   "source": [
    "To simplify the problem of which methods you need to remember to implement, Firedrake offers some builtin Python preconditioners, along with an abstract base class to inherit from `PCBase`. One thing that is slightly tricky is figuring out how to get all the necessary information to construct things. For our use case, Firedrake offers a further abstraction.\n",
    "\n",
    "Since needing to assemble an auxiliary operator of some kind is so common, we can inherit from the builtin `AuxiliaryOperatorPC` and implement the `form` method. This receives test and trial functions on the correct space and should return a form and any boundary conditions (or `None`). When it is constructed and setup, the specified operator is assembled and supplied to an algebraic preconditioner. Let's have a go:"
   ]
  },
  {
   "cell_type": "code",
   "execution_count": 21,
   "metadata": {},
   "outputs": [],
   "source": [
    "class MassMatrix(AuxiliaryOperatorPC):\n",
    "    # The default prefix is \"aux_\"\n",
    "    _prefix = \"mass_\"\n",
    "    def form(self, pc, test, trial):\n",
    "        return (1/nu * test*trial*dx, None)"
   ]
  },
  {
   "cell_type": "markdown",
   "metadata": {},
   "source": [
    "We use this in the same way as our `NonePC` above, but also configure the inner algebraic PC."
   ]
  },
  {
   "cell_type": "code",
   "execution_count": 22,
   "metadata": {},
   "outputs": [],
   "source": [
    "solver_parameters = {\n",
    "    \"mat_type\": \"nest\", # We only need the blocks\n",
    "    \"snes_type\": \"ksponly\",\n",
    "    \"ksp_type\": \"gmres\",\n",
    "    \"ksp_rtol\": 1e-7,\n",
    "    \"ksp_monitor_true_residual\": True,\n",
    "    \"ksp_max_it\": 1500,\n",
    "    \"ksp_view\": True,\n",
    "    \"ksp_converged_reason\": True,\n",
    "    \"pc_type\": \"fieldsplit\",\n",
    "    \"pc_fieldsplit_type\": \"schur\",\n",
    "    \"fieldsplit_0\": {\n",
    "        \"ksp_type\": \"preonly\",\n",
    "        \"pc_type\": \"lu\",\n",
    "    },\n",
    "    \"fieldsplit_1\": {\n",
    "        \"ksp_type\": \"preonly\",\n",
    "        \"pc_type\": \"python\",\n",
    "        \"pc_python_type\": \"__main__.MassMatrix\",\n",
    "        \"mass_pc_type\": \"lu\",\n",
    "    }\n",
    "}"
   ]
  },
  {
   "cell_type": "code",
   "execution_count": 24,
   "metadata": {},
   "outputs": [],
   "source": [
    "w.assign(0)\n",
    "solve(F == 0, w, bcs=bcs, nullspace=nullspace, solver_parameters=solver_parameters)"
   ]
  },
  {
   "cell_type": "markdown",
   "metadata": {},
   "source": [
    "TODO: Discuss how to pass user data in (nu in scope is ugly)."
   ]
  },
  {
   "cell_type": "markdown",
   "metadata": {},
   "source": [
    "## Multigrid preconditioners and smoothers\n",
    "\n",
    "TODO"
   ]
  },
  {
   "cell_type": "code",
   "execution_count": null,
   "metadata": {},
   "outputs": [],
   "source": []
  }
 ],
 "metadata": {
  "kernelspec": {
   "display_name": "Python 3",
   "language": "python",
   "name": "python3"
  },
  "language_info": {
   "codemirror_mode": {
    "name": "ipython",
    "version": 3
   },
   "file_extension": ".py",
   "mimetype": "text/x-python",
   "name": "python",
   "nbconvert_exporter": "python",
   "pygments_lexer": "ipython3",
   "version": "3.7.0"
  }
 },
 "nbformat": 4,
 "nbformat_minor": 2
}
