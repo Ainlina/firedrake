{
 "cells": [
  {
   "cell_type": "markdown",
   "metadata": {},
   "source": [
    "# Programming your solver\n",
    "\n",
    "In this notebook, we will look at some of the more advanced capabilities Firedrake has for configuring and developing preconditioners.\n",
    "\n",
    "As our prototypical example, we will consider the Stokes equations. Find $(u, p) \\in V \\times Q \\subset (H^1)^d \\times L^2$ such that\n",
    "\n",
    "$$\n",
    "\\begin{align}\n",
    "  \\nu\\int_\\Omega \\nabla u : \\nabla v\\,\\mathrm{d}x - \\int_\\Omega p\n",
    "  \\nabla \\cdot v\\,\\mathrm{d}x\n",
    "  &= \\int_\\Omega f \\cdot v\\,\\mathrm{d}x, \\\\\n",
    "  -\\int_\\Omega \\nabla \\cdot u q \\,\\mathrm{d}x&= 0.\n",
    "\\end{align}\n",
    "$$\n",
    "for all $(v, q) \\in V \\times Q$. Where $\\nu$ is the viscosity, and we have not yet introduced boundary conditions.\n",
    "\n",
    "We're going to need a domain to solve this problem on, along with appropriate finite elements for the velocity and pressure spaces. Here we'll use the Taylor-Hood pair, although other options are available."
   ]
  },
  {
   "cell_type": "markdown",
   "metadata": {},
   "source": [
    "We start by importing functionality from the Firedrake interface, defining a mesh, and building the function spaces on it."
   ]
  },
  {
   "cell_type": "code",
   "execution_count": 1,
   "metadata": {},
   "outputs": [],
   "source": [
    "from firedrake import *\n",
    "\n",
    "mesh = UnitSquareMesh(64, 64)\n",
    "\n",
    "V = VectorFunctionSpace(mesh, \"CG\", 2)\n",
    "Q = FunctionSpace(mesh, \"CG\", 1)\n",
    "W = V*Q"
   ]
  },
  {
   "cell_type": "markdown",
   "metadata": {},
   "source": [
    "## The variational problem\n",
    "\n",
    "We will choose a viscosity that does not depend on the solution, and hence solve a linear set of equations. We therefore need some trial and test functions to build a symbolic representation of the problem, along with a function to hold the discrete solution."
   ]
  },
  {
   "cell_type": "code",
   "execution_count": null,
   "metadata": {},
   "outputs": [],
   "source": [
    "u, p = TrialFunctions(W)\n",
    "v, q = TestFunctions(W)\n",
    "\n",
    "nu = Constant(0.001)\n",
    "a = inner(grad(u), grad(v))*dx - p*div(v)*dx - div(u)*q*dx\n",
    "L = inner(f, v)*dx\n",
    "\n",
    "w_h = Function(W)"
   ]
  },
  {
   "cell_type": "markdown",
   "metadata": {},
   "source": [
    "We can go ahead and solve this problem, by calling"
   ]
  },
  {
   "cell_type": "code",
   "execution_count": 2,
   "metadata": {},
   "outputs": [
    {
     "ename": "NameError",
     "evalue": "name 'a' is not defined",
     "output_type": "error",
     "traceback": [
      "\u001b[0;31m---------------------------------------------------------------------------\u001b[0m",
      "\u001b[0;31mNameError\u001b[0m                                 Traceback (most recent call last)",
      "\u001b[0;32m<ipython-input-2-d1fe95beae88>\u001b[0m in \u001b[0;36m<module>\u001b[0;34m\u001b[0m\n\u001b[0;32m----> 1\u001b[0;31m \u001b[0msolve\u001b[0m\u001b[0;34m(\u001b[0m\u001b[0ma\u001b[0m \u001b[0;34m==\u001b[0m \u001b[0mL\u001b[0m\u001b[0;34m,\u001b[0m \u001b[0mw_h\u001b[0m\u001b[0;34m)\u001b[0m\u001b[0;34m\u001b[0m\u001b[0m\n\u001b[0m",
      "\u001b[0;31mNameError\u001b[0m: name 'a' is not defined"
     ]
    }
   ],
   "source": [
    "solve(a == L, w_h)"
   ]
  },
  {
   "cell_type": "markdown",
   "metadata": {},
   "source": [
    "## How is the solver configured?\n",
    "\n",
    "Firedrake relies on PETSc to do the heavy lifting for algebraic solves. If you don't provide any parameters, we just inherit the defaults from PETSc. Of course, we can change this, and probably want to so that we pick an appropriate solver for our problem.\n",
    "\n",
    "Configuring the solver is done by providing _options_ to the solver in the form of a dictionary of solver parameters. These are passed, essentially unmodified, to PETSc which uses them to set up the solver.\n",
    "\n",
    "So, to switch from whatever the default happened to be to a direct factorisation, we do the following."
   ]
  },
  {
   "cell_type": "code",
   "execution_count": 3,
   "metadata": {},
   "outputs": [
    {
     "ename": "NameError",
     "evalue": "name 'a' is not defined",
     "output_type": "error",
     "traceback": [
      "\u001b[0;31m---------------------------------------------------------------------------\u001b[0m",
      "\u001b[0;31mNameError\u001b[0m                                 Traceback (most recent call last)",
      "\u001b[0;32m<ipython-input-3-a3e1e50df323>\u001b[0m in \u001b[0;36m<module>\u001b[0;34m\u001b[0m\n\u001b[1;32m      1\u001b[0m \u001b[0mparameters\u001b[0m\u001b[0;34m=\u001b[0m\u001b[0;34m{\u001b[0m\u001b[0;34m\"mat_type\"\u001b[0m\u001b[0;34m:\u001b[0m \u001b[0;34m\"aij\"\u001b[0m\u001b[0;34m,\u001b[0m \u001b[0;34m\"ksp_type\"\u001b[0m\u001b[0;34m:\u001b[0m \u001b[0;34m\"preonly\"\u001b[0m\u001b[0;34m,\u001b[0m \u001b[0;34m\"pc_type\"\u001b[0m\u001b[0;34m:\u001b[0m \u001b[0;34m\"lu\"\u001b[0m\u001b[0;34m}\u001b[0m\u001b[0;34m\u001b[0m\u001b[0m\n\u001b[0;32m----> 2\u001b[0;31m \u001b[0msolve\u001b[0m\u001b[0;34m(\u001b[0m\u001b[0ma\u001b[0m \u001b[0;34m==\u001b[0m \u001b[0mL\u001b[0m\u001b[0;34m,\u001b[0m \u001b[0mw_h\u001b[0m\u001b[0;34m,\u001b[0m \u001b[0msolver_parameters\u001b[0m\u001b[0;34m=\u001b[0m\u001b[0mparameters\u001b[0m\u001b[0;34m)\u001b[0m\u001b[0;34m\u001b[0m\u001b[0m\n\u001b[0m",
      "\u001b[0;31mNameError\u001b[0m: name 'a' is not defined"
     ]
    }
   ],
   "source": [
    "parameters={\"mat_type\": \"aij\", \"ksp_type\": \"preonly\", \"pc_type\": \"lu\"}\n",
    "solve(a == L, w_h, solver_parameters=parameters)"
   ]
  },
  {
   "cell_type": "markdown",
   "metadata": {},
   "source": [
    "### A more scalable approach\n",
    "\n",
    "LU factorisation is a reasonable choice for small to medium problems (especially in two dimensions). But if we want to eventually solve high resolution problems, we're going to need to use an iterative method with an appropriate preconditioner. We'll look options based around block preconditioners first, and then a monolithic multigrid approach."
   ]
  },
  {
   "cell_type": "markdown",
   "metadata": {},
   "source": [
    "### Programming with options\n",
    "\n",
    "The number of options we're going to use is going to start to grow quite quickly. It is worthwhile, therefore, taking a little time to discuss the \"programming language\" PETSc exposes through its options database.\n",
    "\n",
    "PETSc objects (such as solvers) are configurable at runtime, and the primary mechanism for doing so is through PETSc's _options database_. A PETSc object examines the database, and configures itself, when `setFromOptions` is called on it. For the solvers in Firedrake, this is arranged to happen when you call `solve`. The \"programming language\" for the options consists of two operations:\n",
    "\n",
    "1. Value assignment -foo_type bar (equivalently in dict syntax `{\"foo_type\": \"bar\"}`)\n",
    "2. String concatenation\n",
    "\n",
    "The former says \"set the `foo_type` key in the database to value `bar`\", the latter is used, in combination with object _prefixes_ to configure multiple objects _of the same type_ in different ways.\n",
    "\n"
   ]
  }
 ],
 "metadata": {
  "kernelspec": {
   "display_name": "Python 3",
   "language": "python",
   "name": "python3"
  },
  "language_info": {
   "codemirror_mode": {
    "name": "ipython",
    "version": 3
   },
   "file_extension": ".py",
   "mimetype": "text/x-python",
   "name": "python",
   "nbconvert_exporter": "python",
   "pygments_lexer": "ipython3",
   "version": "3.7.0"
  }
 },
 "nbformat": 4,
 "nbformat_minor": 2
}
